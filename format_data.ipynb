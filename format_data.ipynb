{
 "cells": [
  {
   "cell_type": "markdown",
   "metadata": {},
   "source": [
    "## Data Ingestion + Cleanup"
   ]
  },
  {
   "cell_type": "code",
   "execution_count": 1,
   "metadata": {},
   "outputs": [
    {
     "name": "stderr",
     "output_type": "stream",
     "text": [
      "/home/kachauha/miniconda3/envs/ptceph/lib/python3.7/site-packages/heapdict.py:11: DeprecationWarning: Using or importing the ABCs from 'collections' instead of from 'collections.abc' is deprecated, and in 3.8 it will stop working\n",
      "  class heapdict(collections.MutableMapping):\n"
     ]
    }
   ],
   "source": [
    "import os\n",
    "import gc\n",
    "import glob\n",
    "import time\n",
    "import utils\n",
    "import joblib\n",
    "import mlflow\n",
    "import pyarrow\n",
    "import datetime\n",
    "\n",
    "import numpy as np\n",
    "import pandas as pd\n",
    "import dask.dataframe as dd\n",
    "from dask.diagnostics import ProgressBar\n",
    "from dask.distributed import Client\n",
    "\n",
    "from matplotlib import pyplot as plt\n",
    "import seaborn as sns; sns.set()\n",
    "\n",
    "from joblib import delayed, parallel_backend, Parallel"
   ]
  },
  {
   "cell_type": "code",
   "execution_count": 2,
   "metadata": {},
   "outputs": [],
   "source": [
    "# reproducibility is major key\n",
    "rand_seed = 42\n",
    "np.random.seed(rand_seed)\n",
    "\n",
    "glob_init_state = np.random.get_state()\n",
    "rand_init_state = np.random.RandomState(rand_seed)"
   ]
  },
  {
   "cell_type": "code",
   "execution_count": 3,
   "metadata": {},
   "outputs": [],
   "source": [
    "# client = Client()\n",
    "pbar = ProgressBar()\n",
    "pbar.register()"
   ]
  },
  {
   "cell_type": "code",
   "execution_count": 4,
   "metadata": {},
   "outputs": [],
   "source": [
    "# define thresholds as timedelta\n",
    "BAD_THRESHOLD_NDAYS = np.timedelta64(14, 'D')\n",
    "WARNING_THRESHOLD_NDAYS = np.timedelta64(42, 'D')"
   ]
  },
  {
   "cell_type": "code",
   "execution_count": 5,
   "metadata": {},
   "outputs": [],
   "source": [
    "# how many days of data in a chunk (that is passed to ceph)\n",
    "time_window = 6"
   ]
  },
  {
   "cell_type": "code",
   "execution_count": 6,
   "metadata": {
    "jupyter": {
     "source_hidden": true
    }
   },
   "outputs": [],
   "source": [
    "# inferred int32 types cause a type mismatch (int vs float) error when dask sees a null value\n",
    "# null values cannot be interpreted as ints\n",
    "custom_dtypes = {\n",
    "    \"date\": \"object\",\n",
    "    \"serial_number\": \"object\",\n",
    "    \"model\": \"object\",\n",
    "    \"capacity_bytes\": \"float32\",\n",
    "    \"failure\": \"float32\",\n",
    "    \"smart_1_normalized\": \"float32\",\n",
    "    \"smart_1_raw\": \"float32\",\n",
    "    \"smart_2_normalized\": \"float32\",\n",
    "    \"smart_2_raw\": \"float32\",\n",
    "    \"smart_3_normalized\": \"float32\",\n",
    "    \"smart_3_raw\": \"float32\",\n",
    "    \"smart_4_normalized\": \"float32\",\n",
    "    \"smart_4_raw\": \"float32\",\n",
    "    \"smart_5_normalized\": \"float32\",\n",
    "    \"smart_5_raw\": \"float32\",\n",
    "    \"smart_7_normalized\": \"float32\",\n",
    "    \"smart_7_raw\": \"float32\",\n",
    "    \"smart_8_normalized\": \"float32\",\n",
    "    \"smart_8_raw\": \"float32\",\n",
    "    \"smart_9_normalized\": \"float32\",\n",
    "    \"smart_9_raw\": \"float32\",\n",
    "    \"smart_10_normalized\": \"float32\",\n",
    "    \"smart_10_raw\": \"float32\",\n",
    "    \"smart_11_normalized\": \"float32\",\n",
    "    \"smart_11_raw\": \"float32\",\n",
    "    \"smart_12_normalized\": \"float32\",\n",
    "    \"smart_12_raw\": \"float32\",\n",
    "    \"smart_13_normalized\": \"float32\",\n",
    "    \"smart_13_raw\": \"float32\",\n",
    "    \"smart_15_normalized\": \"float32\",\n",
    "    \"smart_15_raw\": \"float32\",\n",
    "    \"smart_16_normalized\": \"float32\",\n",
    "    \"smart_16_raw\": \"float32\",\n",
    "    \"smart_17_normalized\": \"float32\",\n",
    "    \"smart_17_raw\": \"float32\",\n",
    "    \"smart_22_normalized\": \"float32\",\n",
    "    \"smart_22_raw\": \"float32\",\n",
    "    \"smart_23_normalized\": \"float32\",\n",
    "    \"smart_23_raw\": \"float32\",\n",
    "    \"smart_24_normalized\": \"float32\",\n",
    "    \"smart_24_raw\": \"float32\",\n",
    "    \"smart_168_normalized\": \"float32\",\n",
    "    \"smart_168_raw\": \"float32\",\n",
    "    \"smart_170_normalized\": \"float32\",\n",
    "    \"smart_170_raw\": \"float32\",\n",
    "    \"smart_173_normalized\": \"float32\",\n",
    "    \"smart_173_raw\": \"float32\",\n",
    "    \"smart_174_normalized\": \"float32\",\n",
    "    \"smart_174_raw\": \"float32\",\n",
    "    \"smart_177_normalized\": \"float32\",\n",
    "    \"smart_177_raw\": \"float32\",\n",
    "    \"smart_179_normalized\": \"float32\",\n",
    "    \"smart_179_raw\": \"float32\",\n",
    "    \"smart_181_normalized\": \"float32\",\n",
    "    \"smart_181_raw\": \"float32\",\n",
    "    \"smart_182_normalized\": \"float32\",\n",
    "    \"smart_182_raw\": \"float32\",\n",
    "    \"smart_183_normalized\": \"float32\",\n",
    "    \"smart_183_raw\": \"float32\",\n",
    "    \"smart_184_normalized\": \"float32\",\n",
    "    \"smart_184_raw\": \"float32\",\n",
    "    \"smart_187_normalized\": \"float32\",\n",
    "    \"smart_187_raw\": \"float32\",\n",
    "    \"smart_188_normalized\": \"float32\",\n",
    "    \"smart_188_raw\": \"float32\",\n",
    "    \"smart_189_normalized\": \"float32\",\n",
    "    \"smart_189_raw\": \"float32\",\n",
    "    \"smart_190_normalized\": \"float32\",\n",
    "    \"smart_190_raw\": \"float32\",\n",
    "    \"smart_191_normalized\": \"float32\",\n",
    "    \"smart_191_raw\": \"float32\",\n",
    "    \"smart_192_normalized\": \"float32\",\n",
    "    \"smart_192_raw\": \"float32\",\n",
    "    \"smart_193_normalized\": \"float32\",\n",
    "    \"smart_193_raw\": \"float32\",\n",
    "    \"smart_194_normalized\": \"float32\",\n",
    "    \"smart_194_raw\": \"float32\",\n",
    "    \"smart_195_normalized\": \"float32\",\n",
    "    \"smart_195_raw\": \"float32\",\n",
    "    \"smart_196_normalized\": \"float32\",\n",
    "    \"smart_196_raw\": \"float32\",\n",
    "    \"smart_197_normalized\": \"float32\",\n",
    "    \"smart_197_raw\": \"float32\",\n",
    "    \"smart_198_normalized\": \"float32\",\n",
    "    \"smart_198_raw\": \"float32\",\n",
    "    \"smart_199_normalized\": \"float32\",\n",
    "    \"smart_199_raw\": \"float32\",\n",
    "    \"smart_200_normalized\": \"float32\",\n",
    "    \"smart_200_raw\": \"float32\",\n",
    "    \"smart_201_normalized\": \"float32\",\n",
    "    \"smart_201_raw\": \"float32\",\n",
    "    \"smart_218_normalized\": \"float32\",\n",
    "    \"smart_218_raw\": \"float32\",\n",
    "    \"smart_220_normalized\": \"float32\",\n",
    "    \"smart_220_raw\": \"float32\",\n",
    "    \"smart_222_normalized\": \"float32\",\n",
    "    \"smart_222_raw\": \"float32\",\n",
    "    \"smart_223_normalized\": \"float32\",\n",
    "    \"smart_223_raw\": \"float32\",\n",
    "    \"smart_224_normalized\": \"float32\",\n",
    "    \"smart_224_raw\": \"float32\",\n",
    "    \"smart_225_normalized\": \"float32\",\n",
    "    \"smart_225_raw\": \"float32\",\n",
    "    \"smart_226_normalized\": \"float32\",\n",
    "    \"smart_226_raw\": \"float32\",\n",
    "    \"smart_231_normalized\": \"float32\",\n",
    "    \"smart_231_raw\": \"float32\",\n",
    "    \"smart_232_normalized\": \"float32\",\n",
    "    \"smart_232_raw\": \"float32\",\n",
    "    \"smart_233_normalized\": \"float32\",\n",
    "    \"smart_233_raw\": \"float32\",\n",
    "    \"smart_235_normalized\": \"float32\",\n",
    "    \"smart_235_raw\": \"float32\",\n",
    "    \"smart_240_normalized\": \"float32\",\n",
    "    \"smart_240_raw\": \"float32\",\n",
    "    \"smart_241_normalized\": \"float32\",\n",
    "    \"smart_241_raw\": \"float32\",\n",
    "    \"smart_242_normalized\": \"float32\",\n",
    "    \"smart_242_raw\": \"float32\",\n",
    "    \"smart_250_normalized\": \"float32\",\n",
    "    \"smart_250_raw\": \"float32\",\n",
    "    \"smart_251_normalized\": \"float32\",\n",
    "    \"smart_251_raw\": \"float32\",\n",
    "    \"smart_252_normalized\": \"float32\",\n",
    "    \"smart_252_raw\": \"float32\",\n",
    "    \"smart_254_normalized\": \"float32\",\n",
    "    \"smart_254_raw\": \"float32\",\n",
    "    \"smart_255_normalized\": \"float32\",\n",
    "    \"smart_255_raw\": \"float32\",\n",
    "}"
   ]
  },
  {
   "cell_type": "code",
   "execution_count": 7,
   "metadata": {},
   "outputs": [],
   "source": [
    "DATA_ROOT_DIR = '/home/kachauha/Downloads/'\n",
    "MANUFACTURER = 'seagate'"
   ]
  },
  {
   "cell_type": "code",
   "execution_count": 8,
   "metadata": {},
   "outputs": [],
   "source": [
    "# for now, keep the highly correlated ones but remove 194. remove 240, 242 as well (too low corr)\n",
    "CRITICAL_STATS = [1, 5, 7, 10, 187, 188, 190, 193, 197, 198, 241]\n",
    "crit_cols_raw = ['smart_{}_raw'.format(i) for i in CRITICAL_STATS]\n",
    "crit_cols_normalized = ['smart_{}_normalized'.format(i) for i in CRITICAL_STATS]\n",
    "keep_cols = ['date', 'serial_number', 'model', 'capacity_bytes', 'failure'] + crit_cols_raw + crit_cols_normalized"
   ]
  },
  {
   "cell_type": "code",
   "execution_count": 9,
   "metadata": {},
   "outputs": [],
   "source": [
    "# read all the data into one dataframe\n",
    "df = dd.read_parquet(os.path.join(DATA_ROOT_DIR, 'data_Q4_2018_parquet'),\n",
    "                     columns=keep_cols,\n",
    "                     engine='pyarrow',\n",
    "                     index=False)\n",
    "seagate_df = df[df['model'].str.startswith('S')]"
   ]
  },
  {
   "cell_type": "code",
   "execution_count": 10,
   "metadata": {},
   "outputs": [],
   "source": [
    "# remove nans\n",
    "seagate_df = seagate_df[(~seagate_df['smart_1_raw'].isna())\\\n",
    "                       & (~seagate_df['smart_5_raw'].isna())\\\n",
    "                       & (~seagate_df['smart_187_raw'].isna())\\\n",
    "                       & (~seagate_df['smart_193_raw'].isna())\\\n",
    "                       & (~seagate_df['smart_241_raw'].isna())]"
   ]
  },
  {
   "cell_type": "code",
   "execution_count": 11,
   "metadata": {},
   "outputs": [
    {
     "name": "stdout",
     "output_type": "stream",
     "text": [
      "[########################################] | 100% Completed |  8.2s\n"
     ]
    },
    {
     "data": {
      "text/plain": [
       "29978    Z305B8DE\n",
       "38504    ZA10CTP4\n",
       "38544    ZA114N2J\n",
       "40880    ZCH0CLFQ\n",
       "84763    S30116JR\n",
       "Name: serial_number, dtype: object"
      ]
     },
     "execution_count": 11,
     "metadata": {},
     "output_type": "execute_result"
    }
   ],
   "source": [
    "# may be useful for saving differently\n",
    "failed_sers = seagate_df[seagate_df['failure']==1]['serial_number'].compute()\n",
    "failed_sers.head()"
   ]
  },
  {
   "cell_type": "code",
   "execution_count": 12,
   "metadata": {},
   "outputs": [],
   "source": [
    "# convert from str to datetime\n",
    "seagate_df['date'] = seagate_df['date'].astype('datetime64')"
   ]
  },
  {
   "cell_type": "markdown",
   "metadata": {
    "toc-hr-collapsed": false
   },
   "source": [
    "## Prepare + Preprocess"
   ]
  },
  {
   "cell_type": "code",
   "execution_count": 13,
   "metadata": {},
   "outputs": [],
   "source": [
    "# =============================== FOR DASK =============================== #\n",
    "# create meta of the resulting failed_df otherwise dask complains\n",
    "rul_meta = seagate_df._meta\n",
    "rul_meta = rul_meta.assign(rul_days=rul_meta['date'].max()-rul_meta['date'])\n",
    "# ======================================================================== #\n",
    "\n",
    "# get remaining useful life as diff(today, maxday)\n",
    "# reset index coz result is multiindexed. drop=True coz serial_number already exists as a col\n",
    "seagate_df = seagate_df.groupby('serial_number').apply(utils.append_rul_days_column, meta=rul_meta).reset_index(drop=True)"
   ]
  },
  {
   "cell_type": "code",
   "execution_count": 14,
   "metadata": {},
   "outputs": [],
   "source": [
    "# remove working drive data that is recorded after [quarter end minus 6 weeks]\n",
    "# because we dont know (as of quarter end) if those drives survived more than 6 weeks or not\n",
    "seagate_df = seagate_df[(seagate_df['serial_number'].isin(failed_sers)) | (seagate_df['rul_days'] >= WARNING_THRESHOLD_NDAYS)]"
   ]
  },
  {
   "cell_type": "code",
   "execution_count": 17,
   "metadata": {},
   "outputs": [],
   "source": [
    "# drop serial numbers where we have less than 6 days of data -- ceph upstream rejects these\n",
    "seagate_df = seagate_df[seagate_df['rul_days'] >= np.timedelta64(time_window, 'D')]"
   ]
  },
  {
   "cell_type": "code",
   "execution_count": 18,
   "metadata": {},
   "outputs": [],
   "source": [
    "# NOTE: assignment must be done in th\n",
    "# df.head()is order otherwise it wont be correct. FIXME\n",
    "# assign all as good initially\n",
    "seagate_df['status'] = 0\n",
    "\n",
    "# overwrite those which have rul less than 6 weeks as warning\n",
    "seagate_df['status'] = seagate_df['status'].mask(seagate_df['rul_days'] < WARNING_THRESHOLD_NDAYS, 1)\n",
    "\n",
    "# overwrite those which have rul less than 2 weeks as bad\n",
    "seagate_df['status'] = seagate_df['status'].mask(seagate_df['rul_days'] < BAD_THRESHOLD_NDAYS, 2)"
   ]
  },
  {
   "cell_type": "markdown",
   "metadata": {},
   "source": [
    "### Add month, day"
   ]
  },
  {
   "cell_type": "code",
   "execution_count": 19,
   "metadata": {},
   "outputs": [],
   "source": [
    "seagate_df = seagate_df.assign(month=seagate_df['date'].dt.month)\n",
    "seagate_df = seagate_df.assign(day=seagate_df['date'].dt.day)"
   ]
  },
  {
   "cell_type": "markdown",
   "metadata": {},
   "source": [
    "## Save to Mem"
   ]
  },
  {
   "cell_type": "markdown",
   "metadata": {},
   "source": [
    "### TODO\n",
    "- pull all in memory like in cdfp then save drives\n",
    "- there are several drives (15%) which lived less than 6 days. should these be removed since the upstream removes them too\n"
   ]
  },
  {
   "cell_type": "code",
   "execution_count": 20,
   "metadata": {},
   "outputs": [],
   "source": [
    "SAVE_DIR = '/home/kachauha/Downloads/data_Q4_2018_serials/'\n",
    "FAIL_DIR = os.path.join(SAVE_DIR, 'failed')\n",
    "WORK_DIR = os.path.join(SAVE_DIR, 'working')\n",
    "META_DIR = os.path.join(SAVE_DIR, 'meta')"
   ]
  },
  {
   "cell_type": "code",
   "execution_count": 21,
   "metadata": {},
   "outputs": [],
   "source": [
    "def save_files(df, SAVE_DIR):\n",
    "    \"\"\"\n",
    "    Splits input dataframe into serial number wise groups, then saves each serial number\n",
    "    group as a csv file\n",
    "    \"\"\"\n",
    "    def save_group(ser, ser_df):\n",
    "        ser_df.to_csv(os.path.join(SAVE_DIR, ser + '.csv'), index=False)\n",
    "    \n",
    "    # spawn a thread for each serial\n",
    "    start = time.time()\n",
    "    _ = Parallel(n_jobs=-1, prefer='threads')(\n",
    "        delayed(save_group)(s, d) for s,d in df.groupby('serial_number'))\n",
    "    end = time.time()\n",
    "    print(end-start)"
   ]
  },
  {
   "cell_type": "markdown",
   "metadata": {},
   "source": [
    "### Failed"
   ]
  },
  {
   "cell_type": "code",
   "execution_count": 23,
   "metadata": {},
   "outputs": [],
   "source": [
    "# save all failed ones\n",
    "failed_df = seagate_df[seagate_df['serial_number'].isin(failed_sers)]"
   ]
  },
  {
   "cell_type": "code",
   "execution_count": 25,
   "metadata": {},
   "outputs": [
    {
     "name": "stdout",
     "output_type": "stream",
     "text": [
      "[########################################] | 100% Completed |  3min 56.8s\n",
      "1.3347220420837402\n"
     ]
    }
   ],
   "source": [
    "save_files(failed_df.compute(), FAIL_DIR)"
   ]
  },
  {
   "cell_type": "markdown",
   "metadata": {},
   "source": [
    "### Working"
   ]
  },
  {
   "cell_type": "code",
   "execution_count": 26,
   "metadata": {},
   "outputs": [
    {
     "name": "stdout",
     "output_type": "stream",
     "text": [
      "[########################################] | 100% Completed |  4min 12.2s\n"
     ]
    }
   ],
   "source": [
    "# get all working serials value counts (how many days of data did we have)\n",
    "working_sers_vc = seagate_df['serial_number'][~seagate_df['serial_number'].isin(failed_sers)].value_counts().compute()"
   ]
  },
  {
   "cell_type": "code",
   "execution_count": 31,
   "metadata": {},
   "outputs": [
    {
     "name": "stdout",
     "output_type": "stream",
     "text": [
      "[########################################] | 100% Completed |  4min 11.7s\n"
     ]
    },
    {
     "data": {
      "text/html": [
       "<div>\n",
       "<style scoped>\n",
       "    .dataframe tbody tr th:only-of-type {\n",
       "        vertical-align: middle;\n",
       "    }\n",
       "\n",
       "    .dataframe tbody tr th {\n",
       "        vertical-align: top;\n",
       "    }\n",
       "\n",
       "    .dataframe thead th {\n",
       "        text-align: right;\n",
       "    }\n",
       "</style>\n",
       "<table border=\"1\" class=\"dataframe\">\n",
       "  <thead>\n",
       "    <tr style=\"text-align: right;\">\n",
       "      <th></th>\n",
       "      <th>date</th>\n",
       "      <th>serial_number</th>\n",
       "      <th>model</th>\n",
       "      <th>capacity_bytes</th>\n",
       "      <th>failure</th>\n",
       "      <th>smart_1_raw</th>\n",
       "      <th>smart_5_raw</th>\n",
       "      <th>smart_7_raw</th>\n",
       "      <th>smart_10_raw</th>\n",
       "      <th>smart_187_raw</th>\n",
       "      <th>...</th>\n",
       "      <th>smart_188_normalized</th>\n",
       "      <th>smart_190_normalized</th>\n",
       "      <th>smart_193_normalized</th>\n",
       "      <th>smart_197_normalized</th>\n",
       "      <th>smart_198_normalized</th>\n",
       "      <th>smart_241_normalized</th>\n",
       "      <th>rul_days</th>\n",
       "      <th>status</th>\n",
       "      <th>month</th>\n",
       "      <th>day</th>\n",
       "    </tr>\n",
       "  </thead>\n",
       "  <tbody>\n",
       "  </tbody>\n",
       "</table>\n",
       "<p>0 rows × 31 columns</p>\n",
       "</div>"
      ],
      "text/plain": [
       "Empty DataFrame\n",
       "Columns: [date, serial_number, model, capacity_bytes, failure, smart_1_raw, smart_5_raw, smart_7_raw, smart_10_raw, smart_187_raw, smart_188_raw, smart_190_raw, smart_193_raw, smart_197_raw, smart_198_raw, smart_241_raw, smart_1_normalized, smart_5_normalized, smart_7_normalized, smart_10_normalized, smart_187_normalized, smart_188_normalized, smart_190_normalized, smart_193_normalized, smart_197_normalized, smart_198_normalized, smart_241_normalized, rul_days, status, month, day]\n",
       "Index: []\n",
       "\n",
       "[0 rows x 31 columns]"
      ]
     },
     "execution_count": 31,
     "metadata": {},
     "output_type": "execute_result"
    }
   ],
   "source": [
    "shorts = seagate_df[seagate_df['rul_days'] < np.timedelta64(time_window, 'D')].compute()\n",
    "shorts"
   ]
  },
  {
   "cell_type": "code",
   "execution_count": 33,
   "metadata": {},
   "outputs": [
    {
     "name": "stdout",
     "output_type": "stream",
     "text": [
      "[########################################] | 100% Completed |  3min 53.8s\n"
     ]
    },
    {
     "data": {
      "text/html": [
       "<div>\n",
       "<style scoped>\n",
       "    .dataframe tbody tr th:only-of-type {\n",
       "        vertical-align: middle;\n",
       "    }\n",
       "\n",
       "    .dataframe tbody tr th {\n",
       "        vertical-align: top;\n",
       "    }\n",
       "\n",
       "    .dataframe thead th {\n",
       "        text-align: right;\n",
       "    }\n",
       "</style>\n",
       "<table border=\"1\" class=\"dataframe\">\n",
       "  <thead>\n",
       "    <tr style=\"text-align: right;\">\n",
       "      <th></th>\n",
       "      <th>date</th>\n",
       "      <th>serial_number</th>\n",
       "      <th>model</th>\n",
       "      <th>capacity_bytes</th>\n",
       "      <th>failure</th>\n",
       "      <th>smart_1_raw</th>\n",
       "      <th>smart_5_raw</th>\n",
       "      <th>smart_7_raw</th>\n",
       "      <th>smart_10_raw</th>\n",
       "      <th>smart_187_raw</th>\n",
       "      <th>...</th>\n",
       "      <th>smart_188_normalized</th>\n",
       "      <th>smart_190_normalized</th>\n",
       "      <th>smart_193_normalized</th>\n",
       "      <th>smart_197_normalized</th>\n",
       "      <th>smart_198_normalized</th>\n",
       "      <th>smart_241_normalized</th>\n",
       "      <th>rul_days</th>\n",
       "      <th>status</th>\n",
       "      <th>month</th>\n",
       "      <th>day</th>\n",
       "    </tr>\n",
       "  </thead>\n",
       "  <tbody>\n",
       "    <tr>\n",
       "      <td>69280</td>\n",
       "      <td>2018-10-02</td>\n",
       "      <td>ZJV03MPR</td>\n",
       "      <td>ST12000NM0007</td>\n",
       "      <td>1.200014e+13</td>\n",
       "      <td>0.0</td>\n",
       "      <td>83231976.0</td>\n",
       "      <td>0.0</td>\n",
       "      <td>1298041.0</td>\n",
       "      <td>0.0</td>\n",
       "      <td>0.0</td>\n",
       "      <td>...</td>\n",
       "      <td>100.0</td>\n",
       "      <td>66.0</td>\n",
       "      <td>100.0</td>\n",
       "      <td>100.0</td>\n",
       "      <td>100.0</td>\n",
       "      <td>100.0</td>\n",
       "      <td>90 days</td>\n",
       "      <td>0</td>\n",
       "      <td>10</td>\n",
       "      <td>2</td>\n",
       "    </tr>\n",
       "  </tbody>\n",
       "</table>\n",
       "<p>1 rows × 31 columns</p>\n",
       "</div>"
      ],
      "text/plain": [
       "            date serial_number          model  capacity_bytes  failure  \\\n",
       "69280 2018-10-02      ZJV03MPR  ST12000NM0007    1.200014e+13      0.0   \n",
       "\n",
       "       smart_1_raw  smart_5_raw  smart_7_raw  smart_10_raw  smart_187_raw  \\\n",
       "69280   83231976.0          0.0    1298041.0           0.0            0.0   \n",
       "\n",
       "       ...  smart_188_normalized  smart_190_normalized  smart_193_normalized  \\\n",
       "69280  ...                 100.0                  66.0                 100.0   \n",
       "\n",
       "       smart_197_normalized  smart_198_normalized  smart_241_normalized  \\\n",
       "69280                 100.0                 100.0                 100.0   \n",
       "\n",
       "       rul_days  status  month  day  \n",
       "69280   90 days       0     10    2  \n",
       "\n",
       "[1 rows x 31 columns]"
      ]
     },
     "execution_count": 33,
     "metadata": {},
     "output_type": "execute_result"
    }
   ],
   "source": [
    "seagate_df[seagate_df['serial_number']=='ZJV03MPR'].compute()"
   ]
  },
  {
   "cell_type": "markdown",
   "metadata": {},
   "source": [
    "# FIXME\n",
    "some serial numbers occur <6 times even though we have filtered out data points with rul <6.\n",
    "ZJV03MPR shows rul 90 but then thats it. no other data for ruls <90"
   ]
  },
  {
   "cell_type": "code",
   "execution_count": 32,
   "metadata": {},
   "outputs": [
    {
     "data": {
      "text/plain": [
       "ZJV0MJTM     1\n",
       "ZJV03MPR     1\n",
       "ZCH0DYQM     2\n",
       "ZA21HJEA     3\n",
       "ZCH04TBP     3\n",
       "            ..\n",
       "ZA11QS54    50\n",
       "ZA11QQZJ    50\n",
       "ZA11QNZ3    50\n",
       "ZJV00P1J    50\n",
       "ZA10BWTP    50\n",
       "Name: serial_number, Length: 76955, dtype: int64"
      ]
     },
     "execution_count": 32,
     "metadata": {},
     "output_type": "execute_result"
    }
   ],
   "source": [
    "working_sers_vc.sort_values()"
   ]
  },
  {
   "cell_type": "code",
   "execution_count": 29,
   "metadata": {},
   "outputs": [
    {
     "ename": "AssertionError",
     "evalue": "",
     "output_type": "error",
     "traceback": [
      "\u001b[0;31m---------------------------------------------------------------------------\u001b[0m",
      "\u001b[0;31mAssertionError\u001b[0m                            Traceback (most recent call last)",
      "\u001b[0;32m<ipython-input-29-3d684a744a54>\u001b[0m in \u001b[0;36m<module>\u001b[0;34m\u001b[0m\n\u001b[1;32m      1\u001b[0m \u001b[0;31m# we should have already dropped serial numbers for which there is <6 days of data\u001b[0m\u001b[0;34m\u001b[0m\u001b[0;34m\u001b[0m\u001b[0;34m\u001b[0m\u001b[0m\n\u001b[0;32m----> 2\u001b[0;31m \u001b[0;32massert\u001b[0m \u001b[0mworking_sers_vc\u001b[0m\u001b[0;34m.\u001b[0m\u001b[0mmin\u001b[0m\u001b[0;34m(\u001b[0m\u001b[0;34m)\u001b[0m \u001b[0;34m>=\u001b[0m \u001b[0mtime_window\u001b[0m\u001b[0;34m\u001b[0m\u001b[0;34m\u001b[0m\u001b[0m\n\u001b[0m",
      "\u001b[0;31mAssertionError\u001b[0m: "
     ]
    }
   ],
   "source": [
    "# we should have already dropped serial numbers for which there is <6 days of data\n",
    "assert working_sers_vc.min() >= time_window"
   ]
  },
  {
   "cell_type": "code",
   "execution_count": 51,
   "metadata": {},
   "outputs": [
    {
     "name": "stdout",
     "output_type": "stream",
     "text": [
      "15384 serial numbers kept\n"
     ]
    }
   ],
   "source": [
    "# keep only a small subset for experimenting - keep 10% of each frequency\n",
    "subset_sers = []\n",
    "for count in working_sers_vc.unique():\n",
    "    subset_sers = np.append(subset_sers, working_sers_vc[working_sers_vc==count].sample(frac=0.4, random_state=rand_seed).index.values)\n",
    "print(len(subset_sers), 'serial numbers kept')"
   ]
  },
  {
   "cell_type": "code",
   "execution_count": 52,
   "metadata": {},
   "outputs": [],
   "source": [
    "working_df = seagate_df[seagate_df['serial_number'].isin(subset_sers)]"
   ]
  },
  {
   "cell_type": "code",
   "execution_count": 64,
   "metadata": {},
   "outputs": [
    {
     "name": "stdout",
     "output_type": "stream",
     "text": [
      "[########################################] | 100% Completed |  4min  4.3s\n",
      "70.35569500923157\n"
     ]
    }
   ],
   "source": [
    "save_files(working_df.compute(), WORK_DIR)"
   ]
  },
  {
   "cell_type": "markdown",
   "metadata": {},
   "source": [
    "## Metadata"
   ]
  },
  {
   "cell_type": "code",
   "execution_count": 22,
   "metadata": {},
   "outputs": [],
   "source": [
    "feat_cols = ['capacity_bytes'] + crit_cols_raw + crit_cols_normalized + ['month', 'day']"
   ]
  },
  {
   "cell_type": "code",
   "execution_count": 54,
   "metadata": {},
   "outputs": [
    {
     "name": "stdout",
     "output_type": "stream",
     "text": [
      "[########################################] | 100% Completed |  3min  1.1s\n",
      "[##################                      ] | 46% Completed | 47.7s"
     ]
    },
    {
     "name": "stderr",
     "output_type": "stream",
     "text": [
      "/home/kachauha/miniconda3/envs/ptceph/lib/python3.7/site-packages/dask/array/numpy_compat.py:41: RuntimeWarning: invalid value encountered in true_divide\n",
      "  x = np.divide(x1, x2, out)\n"
     ]
    },
    {
     "name": "stdout",
     "output_type": "stream",
     "text": [
      "[########################################] | 100% Completed |  3min 10.2s\n"
     ]
    }
   ],
   "source": [
    "# concatenate the two\n",
    "df = working_df.append(failed_df)\n",
    "\n",
    "# convert from bytes to gigabytes\n",
    "df['capacity_bytes'] /= 10**9\n",
    "\n",
    "# metadata for normalizing\n",
    "means =  df[feat_cols].mean().compute()\n",
    "stds = df[feat_cols].std().compute()"
   ]
  },
  {
   "cell_type": "code",
   "execution_count": 66,
   "metadata": {},
   "outputs": [
    {
     "name": "stderr",
     "output_type": "stream",
     "text": [
      "/home/kachauha/miniconda3/envs/ptceph/lib/python3.7/site-packages/ipykernel_launcher.py:3: FutureWarning: The signature of `Series.to_csv` was aligned to that of `DataFrame.to_csv`, and argument 'header' will change its default value from False to True: please pass an explicit value to suppress this warning.\n",
      "  This is separate from the ipykernel package so we can avoid doing imports until\n",
      "/home/kachauha/miniconda3/envs/ptceph/lib/python3.7/site-packages/ipykernel_launcher.py:4: FutureWarning: The signature of `Series.to_csv` was aligned to that of `DataFrame.to_csv`, and argument 'header' will change its default value from False to True: please pass an explicit value to suppress this warning.\n",
      "  after removing the cwd from sys.path.\n"
     ]
    }
   ],
   "source": [
    "# save all metadata\n",
    "# NOTE: must keep index\n",
    "means.to_csv(os.path.join(META_DIR, 'means.csv'))\n",
    "stds.to_csv(os.path.join(META_DIR, 'stds.csv'))"
   ]
  },
  {
   "cell_type": "markdown",
   "metadata": {},
   "source": [
    "## Get serials already saved then compute meta"
   ]
  },
  {
   "cell_type": "markdown",
   "metadata": {},
   "source": [
    "#### FIXME: capacity needs to be smaller numbers otherwise mean centering does not work"
   ]
  },
  {
   "cell_type": "code",
   "execution_count": 106,
   "metadata": {},
   "outputs": [],
   "source": [
    "# get serial numbers\n",
    "failed_sers = [f.split('.')[0] for f in os.listdir(FAIL_DIR) if os.path.isfile(os.path.join(FAIL_DIR, f)) and f.endswith('.csv')]\n",
    "working_sers = [f.split('.')[0] for f in os.listdir(WORK_DIR) if os.path.isfile(os.path.join(WORK_DIR, f)) and f.endswith('.csv')]"
   ]
  },
  {
   "cell_type": "code",
   "execution_count": 107,
   "metadata": {},
   "outputs": [
    {
     "name": "stdout",
     "output_type": "stream",
     "text": [
      "[########################################] | 100% Completed |  4.7s\n"
     ]
    }
   ],
   "source": [
    "relevant_df = df[(df['serial_number'].isin(failed_sers)) | (df['serial_number'].isin(working_sers))].compute()"
   ]
  },
  {
   "cell_type": "code",
   "execution_count": 108,
   "metadata": {},
   "outputs": [],
   "source": [
    "# convert from bytes to gigabytes\n",
    "relevant_df['capacity_bytes'] /= 10**9"
   ]
  },
  {
   "cell_type": "code",
   "execution_count": 109,
   "metadata": {},
   "outputs": [],
   "source": [
    "means = relevant_df[feat_cols].mean()\n",
    "stds = relevant_df[feat_cols].std()"
   ]
  },
  {
   "cell_type": "code",
   "execution_count": 110,
   "metadata": {},
   "outputs": [],
   "source": [
    "META_DIR = '/home/kachauha/Downloads/data_Q4_2018_serials/meta'\n",
    "means.to_csv(os.path.join(META_DIR, 'means.csv'))\n",
    "stds.to_csv(os.path.join(META_DIR, 'stds.csv'))"
   ]
  },
  {
   "cell_type": "code",
   "execution_count": 117,
   "metadata": {},
   "outputs": [
    {
     "data": {
      "text/html": [
       "<div>\n",
       "<style scoped>\n",
       "    .dataframe tbody tr th:only-of-type {\n",
       "        vertical-align: middle;\n",
       "    }\n",
       "\n",
       "    .dataframe tbody tr th {\n",
       "        vertical-align: top;\n",
       "    }\n",
       "\n",
       "    .dataframe thead th {\n",
       "        text-align: right;\n",
       "    }\n",
       "</style>\n",
       "<table border=\"1\" class=\"dataframe\">\n",
       "  <thead>\n",
       "    <tr style=\"text-align: right;\">\n",
       "      <th></th>\n",
       "      <th>capacity_bytes</th>\n",
       "      <th>smart_1_raw</th>\n",
       "      <th>smart_5_raw</th>\n",
       "      <th>smart_7_raw</th>\n",
       "      <th>smart_10_raw</th>\n",
       "      <th>smart_187_raw</th>\n",
       "      <th>smart_188_raw</th>\n",
       "      <th>smart_190_raw</th>\n",
       "      <th>smart_193_raw</th>\n",
       "      <th>smart_197_raw</th>\n",
       "      <th>...</th>\n",
       "      <th>smart_5_normalized</th>\n",
       "      <th>smart_7_normalized</th>\n",
       "      <th>smart_10_normalized</th>\n",
       "      <th>smart_187_normalized</th>\n",
       "      <th>smart_188_normalized</th>\n",
       "      <th>smart_190_normalized</th>\n",
       "      <th>smart_193_normalized</th>\n",
       "      <th>smart_197_normalized</th>\n",
       "      <th>smart_198_normalized</th>\n",
       "      <th>smart_241_normalized</th>\n",
       "    </tr>\n",
       "  </thead>\n",
       "  <tbody>\n",
       "    <tr>\n",
       "      <td>1</td>\n",
       "      <td>7956.243344</td>\n",
       "      <td>1.219728e+08</td>\n",
       "      <td>578.490021</td>\n",
       "      <td>2.837305e+09</td>\n",
       "      <td>0.0</td>\n",
       "      <td>5.801774</td>\n",
       "      <td>2.888149e+08</td>\n",
       "      <td>28.788683</td>\n",
       "      <td>33090.953144</td>\n",
       "      <td>11.695257</td>\n",
       "      <td>...</td>\n",
       "      <td>99.797553</td>\n",
       "      <td>85.965448</td>\n",
       "      <td>100.0</td>\n",
       "      <td>96.777237</td>\n",
       "      <td>100.0</td>\n",
       "      <td>71.211317</td>\n",
       "      <td>87.061664</td>\n",
       "      <td>99.979469</td>\n",
       "      <td>99.979469</td>\n",
       "      <td>100.0</td>\n",
       "    </tr>\n",
       "  </tbody>\n",
       "</table>\n",
       "<p>1 rows × 23 columns</p>\n",
       "</div>"
      ],
      "text/plain": [
       "0  capacity_bytes   smart_1_raw  smart_5_raw   smart_7_raw  smart_10_raw  \\\n",
       "1     7956.243344  1.219728e+08   578.490021  2.837305e+09           0.0   \n",
       "\n",
       "0  smart_187_raw  smart_188_raw  smart_190_raw  smart_193_raw  smart_197_raw  \\\n",
       "1       5.801774   2.888149e+08      28.788683   33090.953144      11.695257   \n",
       "\n",
       "0  ...  smart_5_normalized  smart_7_normalized  smart_10_normalized  \\\n",
       "1  ...           99.797553           85.965448                100.0   \n",
       "\n",
       "0  smart_187_normalized  smart_188_normalized  smart_190_normalized  \\\n",
       "1             96.777237                 100.0             71.211317   \n",
       "\n",
       "0  smart_193_normalized  smart_197_normalized  smart_198_normalized  \\\n",
       "1             87.061664             99.979469             99.979469   \n",
       "\n",
       "0  smart_241_normalized  \n",
       "1                 100.0  \n",
       "\n",
       "[1 rows x 23 columns]"
      ]
     },
     "execution_count": 117,
     "metadata": {},
     "output_type": "execute_result"
    }
   ],
   "source": [
    "pd.read_csv(os.path.join(META_DIR, 'means.csv'), header=None).set_index(0).transpose()"
   ]
  },
  {
   "cell_type": "code",
   "execution_count": 121,
   "metadata": {},
   "outputs": [
    {
     "data": {
      "text/plain": [
       "['capacity_bytes',\n",
       " 'smart_1_raw',\n",
       " 'smart_5_raw',\n",
       " 'smart_7_raw',\n",
       " 'smart_10_raw',\n",
       " 'smart_187_raw',\n",
       " 'smart_188_raw',\n",
       " 'smart_190_raw',\n",
       " 'smart_193_raw',\n",
       " 'smart_197_raw',\n",
       " 'smart_198_raw',\n",
       " 'smart_241_raw',\n",
       " 'smart_1_normalized',\n",
       " 'smart_5_normalized',\n",
       " 'smart_7_normalized',\n",
       " 'smart_10_normalized',\n",
       " 'smart_187_normalized',\n",
       " 'smart_188_normalized',\n",
       " 'smart_190_normalized',\n",
       " 'smart_193_normalized',\n",
       " 'smart_197_normalized',\n",
       " 'smart_198_normalized',\n",
       " 'smart_241_normalized']"
      ]
     },
     "execution_count": 121,
     "metadata": {},
     "output_type": "execute_result"
    }
   ],
   "source": [
    "list(pd.read_csv(os.path.join(META_DIR, 'means.csv'), header=None)[0])"
   ]
  },
  {
   "cell_type": "code",
   "execution_count": null,
   "metadata": {},
   "outputs": [],
   "source": []
  }
 ],
 "metadata": {
  "kernelspec": {
   "display_name": "Python 3",
   "language": "python",
   "name": "python3"
  },
  "language_info": {
   "codemirror_mode": {
    "name": "ipython",
    "version": 3
   },
   "file_extension": ".py",
   "mimetype": "text/x-python",
   "name": "python",
   "nbconvert_exporter": "python",
   "pygments_lexer": "ipython3",
   "version": "3.7.4"
  },
  "toc-autonumbering": false,
  "toc-showcode": false
 },
 "nbformat": 4,
 "nbformat_minor": 4
}

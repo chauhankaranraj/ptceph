{
 "cells": [
  {
   "cell_type": "markdown",
   "metadata": {},
   "source": [
    "## Data Ingestion + Cleanup"
   ]
  },
  {
   "cell_type": "code",
   "execution_count": 1,
   "metadata": {},
   "outputs": [
    {
     "name": "stderr",
     "output_type": "stream",
     "text": [
      "/home/kachauha/miniconda3/envs/ptceph/lib/python3.7/site-packages/heapdict.py:11: DeprecationWarning: Using or importing the ABCs from 'collections' instead of from 'collections.abc' is deprecated, and in 3.8 it will stop working\n",
      "  class heapdict(collections.MutableMapping):\n"
     ]
    }
   ],
   "source": [
    "import os\n",
    "import gc\n",
    "import glob\n",
    "import time\n",
    "import utils\n",
    "import joblib\n",
    "import mlflow\n",
    "import pyarrow\n",
    "import datetime\n",
    "\n",
    "import numpy as np\n",
    "import pandas as pd\n",
    "import dask.dataframe as dd\n",
    "from dask.diagnostics import ProgressBar\n",
    "from dask.distributed import Client\n",
    "\n",
    "from matplotlib import pyplot as plt\n",
    "import seaborn as sns; sns.set()\n",
    "\n",
    "from joblib import delayed, parallel_backend, Parallel"
   ]
  },
  {
   "cell_type": "code",
   "execution_count": 2,
   "metadata": {},
   "outputs": [],
   "source": [
    "# reproducibility is major key\n",
    "rand_seed = 42\n",
    "np.random.seed(rand_seed)\n",
    "\n",
    "glob_init_state = np.random.get_state()\n",
    "rand_init_state = np.random.RandomState(rand_seed)"
   ]
  },
  {
   "cell_type": "code",
   "execution_count": 3,
   "metadata": {},
   "outputs": [],
   "source": [
    "# client = Client()\n",
    "pbar = ProgressBar()\n",
    "pbar.register()"
   ]
  },
  {
   "cell_type": "code",
   "execution_count": 4,
   "metadata": {},
   "outputs": [],
   "source": [
    "# define thresholds as timedelta\n",
    "BAD_THRESHOLD_NDAYS = np.timedelta64(14, 'D')\n",
    "WARNING_THRESHOLD_NDAYS = np.timedelta64(42, 'D')"
   ]
  },
  {
   "cell_type": "code",
   "execution_count": 5,
   "metadata": {},
   "outputs": [],
   "source": [
    "# how many days of data in a chunk (that is passed to ceph)\n",
    "time_window = 6"
   ]
  },
  {
   "cell_type": "code",
   "execution_count": 6,
   "metadata": {},
   "outputs": [],
   "source": [
    "# inferred int32 types cause a type mismatch (int vs float) error when dask sees a null value\n",
    "# null values cannot be interpreted as ints\n",
    "custom_dtypes = {\n",
    "    \"date\": \"object\",\n",
    "    \"serial_number\": \"object\",\n",
    "    \"model\": \"object\",\n",
    "    \"capacity_bytes\": \"float32\",\n",
    "    \"failure\": \"float32\",\n",
    "    \"smart_1_normalized\": \"float32\",\n",
    "    \"smart_1_raw\": \"float32\",\n",
    "    \"smart_2_normalized\": \"float32\",\n",
    "    \"smart_2_raw\": \"float32\",\n",
    "    \"smart_3_normalized\": \"float32\",\n",
    "    \"smart_3_raw\": \"float32\",\n",
    "    \"smart_4_normalized\": \"float32\",\n",
    "    \"smart_4_raw\": \"float32\",\n",
    "    \"smart_5_normalized\": \"float32\",\n",
    "    \"smart_5_raw\": \"float32\",\n",
    "    \"smart_7_normalized\": \"float32\",\n",
    "    \"smart_7_raw\": \"float32\",\n",
    "    \"smart_8_normalized\": \"float32\",\n",
    "    \"smart_8_raw\": \"float32\",\n",
    "    \"smart_9_normalized\": \"float32\",\n",
    "    \"smart_9_raw\": \"float32\",\n",
    "    \"smart_10_normalized\": \"float32\",\n",
    "    \"smart_10_raw\": \"float32\",\n",
    "    \"smart_11_normalized\": \"float32\",\n",
    "    \"smart_11_raw\": \"float32\",\n",
    "    \"smart_12_normalized\": \"float32\",\n",
    "    \"smart_12_raw\": \"float32\",\n",
    "    \"smart_13_normalized\": \"float32\",\n",
    "    \"smart_13_raw\": \"float32\",\n",
    "    \"smart_15_normalized\": \"float32\",\n",
    "    \"smart_15_raw\": \"float32\",\n",
    "    \"smart_16_normalized\": \"float32\",\n",
    "    \"smart_16_raw\": \"float32\",\n",
    "    \"smart_17_normalized\": \"float32\",\n",
    "    \"smart_17_raw\": \"float32\",\n",
    "    \"smart_22_normalized\": \"float32\",\n",
    "    \"smart_22_raw\": \"float32\",\n",
    "    \"smart_23_normalized\": \"float32\",\n",
    "    \"smart_23_raw\": \"float32\",\n",
    "    \"smart_24_normalized\": \"float32\",\n",
    "    \"smart_24_raw\": \"float32\",\n",
    "    \"smart_168_normalized\": \"float32\",\n",
    "    \"smart_168_raw\": \"float32\",\n",
    "    \"smart_170_normalized\": \"float32\",\n",
    "    \"smart_170_raw\": \"float32\",\n",
    "    \"smart_173_normalized\": \"float32\",\n",
    "    \"smart_173_raw\": \"float32\",\n",
    "    \"smart_174_normalized\": \"float32\",\n",
    "    \"smart_174_raw\": \"float32\",\n",
    "    \"smart_177_normalized\": \"float32\",\n",
    "    \"smart_177_raw\": \"float32\",\n",
    "    \"smart_179_normalized\": \"float32\",\n",
    "    \"smart_179_raw\": \"float32\",\n",
    "    \"smart_181_normalized\": \"float32\",\n",
    "    \"smart_181_raw\": \"float32\",\n",
    "    \"smart_182_normalized\": \"float32\",\n",
    "    \"smart_182_raw\": \"float32\",\n",
    "    \"smart_183_normalized\": \"float32\",\n",
    "    \"smart_183_raw\": \"float32\",\n",
    "    \"smart_184_normalized\": \"float32\",\n",
    "    \"smart_184_raw\": \"float32\",\n",
    "    \"smart_187_normalized\": \"float32\",\n",
    "    \"smart_187_raw\": \"float32\",\n",
    "    \"smart_188_normalized\": \"float32\",\n",
    "    \"smart_188_raw\": \"float32\",\n",
    "    \"smart_189_normalized\": \"float32\",\n",
    "    \"smart_189_raw\": \"float32\",\n",
    "    \"smart_190_normalized\": \"float32\",\n",
    "    \"smart_190_raw\": \"float32\",\n",
    "    \"smart_191_normalized\": \"float32\",\n",
    "    \"smart_191_raw\": \"float32\",\n",
    "    \"smart_192_normalized\": \"float32\",\n",
    "    \"smart_192_raw\": \"float32\",\n",
    "    \"smart_193_normalized\": \"float32\",\n",
    "    \"smart_193_raw\": \"float32\",\n",
    "    \"smart_194_normalized\": \"float32\",\n",
    "    \"smart_194_raw\": \"float32\",\n",
    "    \"smart_195_normalized\": \"float32\",\n",
    "    \"smart_195_raw\": \"float32\",\n",
    "    \"smart_196_normalized\": \"float32\",\n",
    "    \"smart_196_raw\": \"float32\",\n",
    "    \"smart_197_normalized\": \"float32\",\n",
    "    \"smart_197_raw\": \"float32\",\n",
    "    \"smart_198_normalized\": \"float32\",\n",
    "    \"smart_198_raw\": \"float32\",\n",
    "    \"smart_199_normalized\": \"float32\",\n",
    "    \"smart_199_raw\": \"float32\",\n",
    "    \"smart_200_normalized\": \"float32\",\n",
    "    \"smart_200_raw\": \"float32\",\n",
    "    \"smart_201_normalized\": \"float32\",\n",
    "    \"smart_201_raw\": \"float32\",\n",
    "    \"smart_218_normalized\": \"float32\",\n",
    "    \"smart_218_raw\": \"float32\",\n",
    "    \"smart_220_normalized\": \"float32\",\n",
    "    \"smart_220_raw\": \"float32\",\n",
    "    \"smart_222_normalized\": \"float32\",\n",
    "    \"smart_222_raw\": \"float32\",\n",
    "    \"smart_223_normalized\": \"float32\",\n",
    "    \"smart_223_raw\": \"float32\",\n",
    "    \"smart_224_normalized\": \"float32\",\n",
    "    \"smart_224_raw\": \"float32\",\n",
    "    \"smart_225_normalized\": \"float32\",\n",
    "    \"smart_225_raw\": \"float32\",\n",
    "    \"smart_226_normalized\": \"float32\",\n",
    "    \"smart_226_raw\": \"float32\",\n",
    "    \"smart_231_normalized\": \"float32\",\n",
    "    \"smart_231_raw\": \"float32\",\n",
    "    \"smart_232_normalized\": \"float32\",\n",
    "    \"smart_232_raw\": \"float32\",\n",
    "    \"smart_233_normalized\": \"float32\",\n",
    "    \"smart_233_raw\": \"float32\",\n",
    "    \"smart_235_normalized\": \"float32\",\n",
    "    \"smart_235_raw\": \"float32\",\n",
    "    \"smart_240_normalized\": \"float32\",\n",
    "    \"smart_240_raw\": \"float32\",\n",
    "    \"smart_241_normalized\": \"float32\",\n",
    "    \"smart_241_raw\": \"float32\",\n",
    "    \"smart_242_normalized\": \"float32\",\n",
    "    \"smart_242_raw\": \"float32\",\n",
    "    \"smart_250_normalized\": \"float32\",\n",
    "    \"smart_250_raw\": \"float32\",\n",
    "    \"smart_251_normalized\": \"float32\",\n",
    "    \"smart_251_raw\": \"float32\",\n",
    "    \"smart_252_normalized\": \"float32\",\n",
    "    \"smart_252_raw\": \"float32\",\n",
    "    \"smart_254_normalized\": \"float32\",\n",
    "    \"smart_254_raw\": \"float32\",\n",
    "    \"smart_255_normalized\": \"float32\",\n",
    "    \"smart_255_raw\": \"float32\",\n",
    "}"
   ]
  },
  {
   "cell_type": "code",
   "execution_count": 7,
   "metadata": {},
   "outputs": [],
   "source": [
    "DATA_ROOT_DIR = '/home/kachauha/Downloads/'\n",
    "MANUFACTURER = 'seagate'"
   ]
  },
  {
   "cell_type": "code",
   "execution_count": 8,
   "metadata": {},
   "outputs": [],
   "source": [
    "# for now, keep the highly correlated ones but remove 194. remove 240, 242 as well (too low corr)\n",
    "CRITICAL_STATS = [1, 5, 7, 10, 187, 188, 190, 193, 197, 198, 241]\n",
    "crit_cols_raw = ['smart_{}_raw'.format(i) for i in CRITICAL_STATS]\n",
    "crit_cols_normalized = ['smart_{}_normalized'.format(i) for i in CRITICAL_STATS]\n",
    "keep_cols = ['date', 'serial_number', 'model', 'capacity_bytes', 'failure'] + crit_cols_raw + crit_cols_normalized"
   ]
  },
  {
   "cell_type": "code",
   "execution_count": 9,
   "metadata": {},
   "outputs": [],
   "source": [
    "# read all the data into one dataframe\n",
    "df = dd.read_parquet(os.path.join(DATA_ROOT_DIR, 'data_Q4_2018_parquet'),\n",
    "                     columns=keep_cols,\n",
    "                     engine='pyarrow',\n",
    "                     index=False)\n",
    "seagate_df = df[df['model'].str.startswith('S')]"
   ]
  },
  {
   "cell_type": "code",
   "execution_count": 10,
   "metadata": {},
   "outputs": [],
   "source": [
    "# remove nans\n",
    "seagate_df = seagate_df[(~seagate_df['smart_1_raw'].isna())\\\n",
    "                       & (~seagate_df['smart_5_raw'].isna())\\\n",
    "                       & (~seagate_df['smart_187_raw'].isna())\\\n",
    "                       & (~seagate_df['smart_193_raw'].isna())\\\n",
    "                       & (~seagate_df['smart_241_raw'].isna())]"
   ]
  },
  {
   "cell_type": "code",
   "execution_count": 11,
   "metadata": {},
   "outputs": [
    {
     "name": "stdout",
     "output_type": "stream",
     "text": [
      "[########################################] | 100% Completed | 18.7s\n"
     ]
    },
    {
     "data": {
      "text/plain": [
       "serial_number\n",
       "S3006B76    3\n",
       "S300WDLE    3\n",
       "S300Z3QA    2\n",
       "S30116JR    1\n",
       "S301GME2    3\n",
       "           ..\n",
       "ZJV2EFHJ    4\n",
       "ZA11WY96    5\n",
       "ZJV00VYM    5\n",
       "ZCH07P4D    3\n",
       "ZCH0CWJ3    1\n",
       "Length: 127, dtype: int64"
      ]
     },
     "execution_count": 11,
     "metadata": {},
     "output_type": "execute_result"
    }
   ],
   "source": [
    "# drop serial numbers where we have less than 6 days of data -- ceph upstream rejects these\n",
    "ser_freqs = seagate_df.groupby('serial_number').size()\n",
    "insuf_ser_freqs = ser_freqs[ser_freqs < time_window].compute()\n",
    "seagate_df = seagate_df[~seagate_df['serial_number'].isin(insuf_ser_freqs.index)]\n",
    "\n",
    "insuf_ser_freqs"
   ]
  },
  {
   "cell_type": "code",
   "execution_count": 12,
   "metadata": {},
   "outputs": [
    {
     "name": "stdout",
     "output_type": "stream",
     "text": [
      "[########################################] | 100% Completed |  8.5s\n"
     ]
    },
    {
     "data": {
      "text/plain": [
       "32249    ZJV0Q7JP\n",
       "38021    ZCH07GX5\n",
       "40119    Z3029GDA\n",
       "63287    ZA17RMPJ\n",
       "3558     S300Z3XP\n",
       "           ...   \n",
       "43554    Z302AYKZ\n",
       "63756    Z3025L0M\n",
       "21700    ZCH07CVK\n",
       "35745    ZCH09GNA\n",
       "89121    ZCH0841G\n",
       "Name: serial_number, Length: 293, dtype: object"
      ]
     },
     "execution_count": 12,
     "metadata": {},
     "output_type": "execute_result"
    }
   ],
   "source": [
    "# may be useful for saving differently\n",
    "failed_sers = seagate_df[seagate_df['failure']==1]['serial_number'].compute()\n",
    "failed_sers"
   ]
  },
  {
   "cell_type": "code",
   "execution_count": 13,
   "metadata": {},
   "outputs": [
    {
     "name": "stdout",
     "output_type": "stream",
     "text": [
      "[########################################] | 100% Completed | 18.7s\n"
     ]
    },
    {
     "data": {
      "text/plain": [
       "ZCH07VMN     6\n",
       "ZJV03FE3     7\n",
       "ZA15B2D3     7\n",
       "ZA19NHFT     8\n",
       "ZJV04BW7     8\n",
       "            ..\n",
       "Z4D03FZ4    92\n",
       "ZCH0869J    92\n",
       "ZCH06NBK    92\n",
       "Z4D03FFL    92\n",
       "Z305GVB4    92\n",
       "Name: serial_number, Length: 82553, dtype: int64"
      ]
     },
     "execution_count": 13,
     "metadata": {},
     "output_type": "execute_result"
    }
   ],
   "source": [
    "working_sers_vc = seagate_df['serial_number'][~seagate_df['serial_number'].isin(failed_sers)].value_counts().compute()\n",
    "working_sers_vc.sort_values()"
   ]
  },
  {
   "cell_type": "code",
   "execution_count": 14,
   "metadata": {},
   "outputs": [
    {
     "name": "stdout",
     "output_type": "stream",
     "text": [
      "[########################################] | 100% Completed |  9.0s\n"
     ]
    },
    {
     "data": {
      "text/plain": [
       "ZJV0LN7K     6\n",
       "ZJV07RPB     6\n",
       "Z3029GDA     7\n",
       "ZCH07GX5     7\n",
       "ZJV0Q7JP     7\n",
       "            ..\n",
       "S300Z61D    90\n",
       "Z3025L0M    90\n",
       "ZCH09GNA    91\n",
       "ZCH0841G    91\n",
       "ZCH07CVK    92\n",
       "Name: serial_number, Length: 293, dtype: int64"
      ]
     },
     "execution_count": 14,
     "metadata": {},
     "output_type": "execute_result"
    }
   ],
   "source": [
    "failed_sers_vc = seagate_df['serial_number'][seagate_df['serial_number'].isin(failed_sers)].value_counts().compute()\n",
    "failed_sers_vc.sort_values()"
   ]
  },
  {
   "cell_type": "markdown",
   "metadata": {
    "toc-hr-collapsed": false
   },
   "source": [
    "## Prepare + Preprocess"
   ]
  },
  {
   "cell_type": "code",
   "execution_count": 15,
   "metadata": {},
   "outputs": [],
   "source": [
    "# convert from str to datetime\n",
    "seagate_df['date'] = seagate_df['date'].astype('datetime64')"
   ]
  },
  {
   "cell_type": "markdown",
   "metadata": {},
   "source": [
    "### Add month, day"
   ]
  },
  {
   "cell_type": "code",
   "execution_count": 16,
   "metadata": {},
   "outputs": [],
   "source": [
    "seagate_df = seagate_df.assign(month=seagate_df['date'].dt.month)\n",
    "seagate_df = seagate_df.assign(day=seagate_df['date'].dt.day)"
   ]
  },
  {
   "cell_type": "markdown",
   "metadata": {},
   "source": [
    "### Add status label"
   ]
  },
  {
   "cell_type": "code",
   "execution_count": 17,
   "metadata": {},
   "outputs": [],
   "source": [
    "# =============================== FOR DASK =============================== #\n",
    "# create meta of the resulting failed_df otherwise dask complains\n",
    "rul_meta = seagate_df._meta\n",
    "rul_meta = rul_meta.assign(rul_days=rul_meta['date'].max()-rul_meta['date'])\n",
    "# ======================================================================== #\n",
    "\n",
    "# get remaining useful life as diff(today, maxday)\n",
    "# reset index coz result is multiindexed. drop=True coz serial_number already exists as a col\n",
    "seagate_df = seagate_df.groupby('serial_number').apply(utils.append_rul_days_column, meta=rul_meta).reset_index(drop=True)"
   ]
  },
  {
   "cell_type": "code",
   "execution_count": 18,
   "metadata": {},
   "outputs": [],
   "source": [
    "# remove working drive data that is recorded after [quarter end minus 6 weeks]\n",
    "# because we dont know (as of quarter end) if those drives survived more than 6 weeks or not\n",
    "seagate_df = seagate_df[(seagate_df['serial_number'].isin(failed_sers)) | (seagate_df['rul_days'] >= WARNING_THRESHOLD_NDAYS)]"
   ]
  },
  {
   "cell_type": "code",
   "execution_count": 19,
   "metadata": {},
   "outputs": [],
   "source": [
    "# NOTE: assignment must be done in th\n",
    "# df.head()is order otherwise it wont be correct. FIXME\n",
    "# assign all as good initially\n",
    "seagate_df['status'] = 0\n",
    "\n",
    "# overwrite those which have rul less than 6 weeks as warning\n",
    "seagate_df['status'] = seagate_df['status'].mask(seagate_df['rul_days'] < WARNING_THRESHOLD_NDAYS, 1)\n",
    "\n",
    "# overwrite those which have rul less than 2 weeks as bad\n",
    "seagate_df['status'] = seagate_df['status'].mask(seagate_df['rul_days'] < BAD_THRESHOLD_NDAYS, 2)"
   ]
  },
  {
   "cell_type": "markdown",
   "metadata": {},
   "source": [
    "## Save to Mem"
   ]
  },
  {
   "cell_type": "markdown",
   "metadata": {},
   "source": [
    "### TODO\n",
    "- pull all in memory like in cdfp then save drives\n",
    "\n",
    "**NOTE** there are several drives (15%) which lived less than 6 days which are getting removed. but right now there is no better way to deal with that since even the upstream will reject if data is less than 6 days.\n"
   ]
  },
  {
   "cell_type": "code",
   "execution_count": 10,
   "metadata": {},
   "outputs": [],
   "source": [
    "SAVE_DIR = '/home/kachauha/Downloads/data_Q4_2018_serials/'\n",
    "FAIL_DIR = os.path.join(SAVE_DIR, 'failed')\n",
    "WORK_DIR = os.path.join(SAVE_DIR, 'working')\n",
    "META_DIR = os.path.join(SAVE_DIR, 'meta')"
   ]
  },
  {
   "cell_type": "code",
   "execution_count": 21,
   "metadata": {},
   "outputs": [],
   "source": [
    "def save_files(df, SAVE_DIR):\n",
    "    \"\"\"\n",
    "    Splits input dataframe into serial number wise groups, then saves each serial number\n",
    "    group as a csv file\n",
    "    \"\"\"\n",
    "    def save_group(ser, ser_df):\n",
    "        ser_df.to_csv(os.path.join(SAVE_DIR, ser + '.csv'), index=False)\n",
    "    \n",
    "    # spawn a thread for each serial\n",
    "    start = time.time()\n",
    "    _ = Parallel(n_jobs=-1, prefer='threads')(\n",
    "        delayed(save_group)(s, d) for s,d in df.groupby('serial_number'))\n",
    "    end = time.time()\n",
    "    print(end-start)"
   ]
  },
  {
   "cell_type": "markdown",
   "metadata": {},
   "source": [
    "### Failed"
   ]
  },
  {
   "cell_type": "code",
   "execution_count": 22,
   "metadata": {},
   "outputs": [],
   "source": [
    "# save all failed ones\n",
    "failed_df = seagate_df[seagate_df['serial_number'].isin(failed_sers)]"
   ]
  },
  {
   "cell_type": "code",
   "execution_count": 23,
   "metadata": {},
   "outputs": [
    {
     "name": "stdout",
     "output_type": "stream",
     "text": [
      "[########################################] | 100% Completed |  3min  9.4s\n"
     ]
    },
    {
     "data": {
      "text/plain": [
       "ZJV0LN7K     6\n",
       "ZJV07RPB     6\n",
       "Z3029GDA     7\n",
       "ZCH07GX5     7\n",
       "ZJV0Q7JP     7\n",
       "            ..\n",
       "S300Z61D    90\n",
       "Z3025L0M    90\n",
       "ZCH09GNA    91\n",
       "ZCH0841G    91\n",
       "ZCH07CVK    92\n",
       "Name: serial_number, Length: 293, dtype: int64"
      ]
     },
     "execution_count": 23,
     "metadata": {},
     "output_type": "execute_result"
    }
   ],
   "source": [
    "# get all working serials value counts (how many days of data did we have)\n",
    "failed_sers_vc = failed_df['serial_number'].value_counts().compute()\n",
    "failed_sers_vc.sort_values()"
   ]
  },
  {
   "cell_type": "code",
   "execution_count": 33,
   "metadata": {},
   "outputs": [
    {
     "name": "stdout",
     "output_type": "stream",
     "text": [
      "[########################################] | 100% Completed |  3min 16.0s\n",
      "1.1299703121185303\n"
     ]
    }
   ],
   "source": [
    "# since we've sanity checked that all serials have at least 6 days of data, we will proceed to save files\n",
    "save_files(failed_df.compute(), FAIL_DIR)"
   ]
  },
  {
   "cell_type": "markdown",
   "metadata": {},
   "source": [
    "### Working"
   ]
  },
  {
   "cell_type": "code",
   "execution_count": 24,
   "metadata": {},
   "outputs": [
    {
     "name": "stdout",
     "output_type": "stream",
     "text": [
      "[########################################] | 100% Completed |  3min 31.5s\n"
     ]
    }
   ],
   "source": [
    "# get all working serials value counts (how many days of data did we have)\n",
    "working_sers_vc = seagate_df['serial_number'][~seagate_df['serial_number'].isin(failed_sers)].value_counts().compute()"
   ]
  },
  {
   "cell_type": "code",
   "execution_count": 25,
   "metadata": {},
   "outputs": [
    {
     "name": "stdout",
     "output_type": "stream",
     "text": [
      "23083 serial numbers kept\n"
     ]
    },
    {
     "data": {
      "text/html": [
       "<div>\n",
       "<style scoped>\n",
       "    .dataframe tbody tr th:only-of-type {\n",
       "        vertical-align: middle;\n",
       "    }\n",
       "\n",
       "    .dataframe tbody tr th {\n",
       "        vertical-align: top;\n",
       "    }\n",
       "\n",
       "    .dataframe thead th {\n",
       "        text-align: right;\n",
       "    }\n",
       "</style>\n",
       "<table border=\"1\" class=\"dataframe\">\n",
       "  <thead>\n",
       "    <tr style=\"text-align: right;\">\n",
       "      <th></th>\n",
       "      <th></th>\n",
       "      <th>count</th>\n",
       "    </tr>\n",
       "    <tr>\n",
       "      <th>count</th>\n",
       "      <th>serial_number</th>\n",
       "      <th></th>\n",
       "    </tr>\n",
       "  </thead>\n",
       "  <tbody>\n",
       "    <tr>\n",
       "      <td rowspan=\"5\" valign=\"top\">6</td>\n",
       "      <td>ZDECQQ39</td>\n",
       "      <td>6</td>\n",
       "    </tr>\n",
       "    <tr>\n",
       "      <td>ZDECL3WB</td>\n",
       "      <td>6</td>\n",
       "    </tr>\n",
       "    <tr>\n",
       "      <td>ZDECE2P6</td>\n",
       "      <td>6</td>\n",
       "    </tr>\n",
       "    <tr>\n",
       "      <td>WL1AAPE4</td>\n",
       "      <td>6</td>\n",
       "    </tr>\n",
       "    <tr>\n",
       "      <td>ZDECQPVB</td>\n",
       "      <td>6</td>\n",
       "    </tr>\n",
       "    <tr>\n",
       "      <td>...</td>\n",
       "      <td>...</td>\n",
       "      <td>...</td>\n",
       "    </tr>\n",
       "    <tr>\n",
       "      <td rowspan=\"5\" valign=\"top\">50</td>\n",
       "      <td>ZCH059YR</td>\n",
       "      <td>50</td>\n",
       "    </tr>\n",
       "    <tr>\n",
       "      <td>ZA1805MK</td>\n",
       "      <td>50</td>\n",
       "    </tr>\n",
       "    <tr>\n",
       "      <td>ZA10MCWP</td>\n",
       "      <td>50</td>\n",
       "    </tr>\n",
       "    <tr>\n",
       "      <td>ZCH071MH</td>\n",
       "      <td>50</td>\n",
       "    </tr>\n",
       "    <tr>\n",
       "      <td>ZA11V8YX</td>\n",
       "      <td>50</td>\n",
       "    </tr>\n",
       "  </tbody>\n",
       "</table>\n",
       "<p>23083 rows × 1 columns</p>\n",
       "</div>"
      ],
      "text/plain": [
       "                     count\n",
       "count serial_number       \n",
       "6     ZDECQQ39           6\n",
       "      ZDECL3WB           6\n",
       "      ZDECE2P6           6\n",
       "      WL1AAPE4           6\n",
       "      ZDECQPVB           6\n",
       "...                    ...\n",
       "50    ZCH059YR          50\n",
       "      ZA1805MK          50\n",
       "      ZA10MCWP          50\n",
       "      ZCH071MH          50\n",
       "      ZA11V8YX          50\n",
       "\n",
       "[23083 rows x 1 columns]"
      ]
     },
     "execution_count": 25,
     "metadata": {},
     "output_type": "execute_result"
    }
   ],
   "source": [
    "# serial numbers, grouped by count i.e. how many data points available for that serial\n",
    "grouped = working_sers_vc.to_frame('count').rename_axis('serial_number').groupby('count')\n",
    "\n",
    "# keep only a subset of serial numbers to save\n",
    "subset_sers_df = grouped.apply(lambda g: g.sample(frac=0.3, random_state=rand_seed) if g.name>=6 else None)\n",
    "subset_sers = subset_sers_df.index.get_level_values(1)\n",
    "print(len(subset_sers), 'serial numbers kept')\n",
    "subset_sers_df"
   ]
  },
  {
   "cell_type": "code",
   "execution_count": 26,
   "metadata": {},
   "outputs": [],
   "source": [
    "# get data corresponding to working drives subset kept\n",
    "working_df = seagate_df[seagate_df['serial_number'].isin(subset_sers)]"
   ]
  },
  {
   "cell_type": "code",
   "execution_count": 85,
   "metadata": {},
   "outputs": [
    {
     "name": "stdout",
     "output_type": "stream",
     "text": [
      "[########################################] | 100% Completed |  3min  2.9s\n",
      "91.87196350097656\n"
     ]
    }
   ],
   "source": [
    "# save files\n",
    "save_files(working_df.compute(), WORK_DIR)"
   ]
  },
  {
   "cell_type": "markdown",
   "metadata": {},
   "source": [
    "## Metadata"
   ]
  },
  {
   "cell_type": "code",
   "execution_count": 27,
   "metadata": {},
   "outputs": [],
   "source": [
    "feat_cols = ['capacity_bytes'] + crit_cols_raw + crit_cols_normalized + ['month', 'day']"
   ]
  },
  {
   "cell_type": "code",
   "execution_count": 28,
   "metadata": {},
   "outputs": [],
   "source": [
    "# concatenate the two\n",
    "df = working_df.append(failed_df)\n",
    "\n",
    "# convert from bytes to gigabytes\n",
    "df['capacity_bytes'] /= 10**9"
   ]
  },
  {
   "cell_type": "code",
   "execution_count": 33,
   "metadata": {},
   "outputs": [
    {
     "name": "stdout",
     "output_type": "stream",
     "text": [
      "[                                        ] | 0% Completed |  0.0s"
     ]
    },
    {
     "name": "stderr",
     "output_type": "stream",
     "text": [
      "/home/kachauha/miniconda3/envs/ptceph/lib/python3.7/site-packages/dask_ml/utils.py:5: DeprecationWarning: Using or importing the ABCs from 'collections' instead of from 'collections.abc' is deprecated, and in 3.8 it will stop working\n",
      "  from collections import Sequence\n"
     ]
    },
    {
     "name": "stdout",
     "output_type": "stream",
     "text": [
      "[#####################                   ] | 53% Completed |  1min  4.2s"
     ]
    },
    {
     "name": "stderr",
     "output_type": "stream",
     "text": [
      "/home/kachauha/miniconda3/envs/ptceph/lib/python3.7/site-packages/dask/array/numpy_compat.py:41: RuntimeWarning: invalid value encountered in true_divide\n",
      "  x = np.divide(x1, x2, out)\n"
     ]
    },
    {
     "name": "stdout",
     "output_type": "stream",
     "text": [
      "[########################################] | 100% Completed |  3min 36.6s\n"
     ]
    },
    {
     "data": {
      "text/plain": [
       "StandardScaler(copy=True, with_mean=True, with_std=True)"
      ]
     },
     "execution_count": 33,
     "metadata": {},
     "output_type": "execute_result"
    }
   ],
   "source": [
    "from dask_ml.preprocessing import StandardScaler\n",
    "\n",
    "stdscaler = StandardScaler()\n",
    "stdscaler.fit(df[feat_cols])"
   ]
  },
  {
   "cell_type": "code",
   "execution_count": 38,
   "metadata": {},
   "outputs": [
    {
     "name": "stdout",
     "output_type": "stream",
     "text": [
      "[########################################] | 100% Completed |  3min 27.6s\n",
      "[###################                     ] | 49% Completed | 58.6s"
     ]
    },
    {
     "name": "stderr",
     "output_type": "stream",
     "text": [
      "/home/kachauha/miniconda3/envs/ptceph/lib/python3.7/site-packages/dask/array/numpy_compat.py:41: RuntimeWarning: invalid value encountered in true_divide\n",
      "  x = np.divide(x1, x2, out)\n"
     ]
    },
    {
     "name": "stdout",
     "output_type": "stream",
     "text": [
      "[########################################] | 100% Completed |  3min 26.2s\n"
     ]
    }
   ],
   "source": [
    "# stdscalerdata for normalizing\n",
    "means = df[feat_cols].mean().compute()\n",
    "stds = df[feat_cols].std().compute()\n",
    "\n",
    "# save all metadata\n",
    "# NOTE: must keep index\n",
    "means.to_csv(os.path.join(META_DIR, 'means.csv'))\n",
    "stds.to_csv(os.path.join(META_DIR, 'stds.csv'))"
   ]
  },
  {
   "cell_type": "code",
   "execution_count": 41,
   "metadata": {},
   "outputs": [
    {
     "data": {
      "text/plain": [
       "array([nan, nan, nan, nan, nan, nan, nan, nan, nan, nan, nan, nan, nan,\n",
       "       nan, nan, nan, nan, nan, nan, nan, nan, nan, nan, nan, nan])"
      ]
     },
     "execution_count": 41,
     "metadata": {},
     "output_type": "execute_result"
    }
   ],
   "source": [
    "stdscaler.var_"
   ]
  },
  {
   "cell_type": "code",
   "execution_count": 43,
   "metadata": {
    "collapsed": true,
    "jupyter": {
     "outputs_hidden": true
    }
   },
   "outputs": [
    {
     "data": {
      "text/plain": [
       "capacity_bytes          3.238582e+03\n",
       "smart_1_raw             7.052289e+07\n",
       "smart_5_raw             4.678134e+02\n",
       "smart_7_raw             7.059971e+10\n",
       "smart_10_raw            0.000000e+00\n",
       "smart_187_raw           4.722942e+00\n",
       "smart_188_raw           3.376689e+09\n",
       "smart_190_raw           6.259205e+00\n",
       "smart_193_raw           4.267056e+04\n",
       "smart_197_raw           1.290441e+01\n",
       "smart_198_raw           1.290441e+01\n",
       "smart_241_raw           1.059944e+10\n",
       "smart_1_normalized      1.711216e+01\n",
       "smart_5_normalized      2.117362e-01\n",
       "smart_7_normalized      5.694963e+00\n",
       "smart_10_normalized     0.000000e+00\n",
       "smart_187_normalized    1.652660e+00\n",
       "smart_188_normalized    0.000000e+00\n",
       "smart_190_normalized    6.259205e+00\n",
       "smart_193_normalized    1.772687e+01\n",
       "smart_197_normalized    7.034069e-02\n",
       "smart_198_normalized    7.034069e-02\n",
       "smart_241_normalized    0.000000e+00\n",
       "month                   4.907144e-01\n",
       "day                     8.308475e+00\n",
       "dtype: float64"
      ]
     },
     "execution_count": 43,
     "metadata": {},
     "output_type": "execute_result"
    }
   ],
   "source": [
    "stds"
   ]
  },
  {
   "cell_type": "markdown",
   "metadata": {},
   "source": [
    "## Get serials already saved then compute meta"
   ]
  },
  {
   "cell_type": "markdown",
   "metadata": {},
   "source": [
    "#### FIXME: capacity needs to be smaller numbers otherwise mean centering does not work"
   ]
  },
  {
   "cell_type": "code",
   "execution_count": 106,
   "metadata": {},
   "outputs": [],
   "source": [
    "# get serial numbers\n",
    "failed_sers = [f.split('.')[0] for f in os.listdir(FAIL_DIR) if os.path.isfile(os.path.join(FAIL_DIR, f)) and f.endswith('.csv')]\n",
    "working_sers = [f.split('.')[0] for f in os.listdir(WORK_DIR) if os.path.isfile(os.path.join(WORK_DIR, f)) and f.endswith('.csv')]"
   ]
  },
  {
   "cell_type": "code",
   "execution_count": 107,
   "metadata": {},
   "outputs": [
    {
     "name": "stdout",
     "output_type": "stream",
     "text": [
      "[########################################] | 100% Completed |  4.7s\n"
     ]
    }
   ],
   "source": [
    "relevant_df = df[(df['serial_number'].isin(failed_sers)) | (df['serial_number'].isin(working_sers))].compute()"
   ]
  },
  {
   "cell_type": "code",
   "execution_count": 108,
   "metadata": {},
   "outputs": [],
   "source": [
    "# convert from bytes to gigabytes\n",
    "relevant_df['capacity_bytes'] /= 10**9"
   ]
  },
  {
   "cell_type": "code",
   "execution_count": 109,
   "metadata": {},
   "outputs": [],
   "source": [
    "means = relevant_df[feat_cols].mean()\n",
    "stds = relevant_df[feat_cols].std()"
   ]
  },
  {
   "cell_type": "code",
   "execution_count": 110,
   "metadata": {},
   "outputs": [],
   "source": [
    "META_DIR = '/home/kachauha/Downloads/data_Q4_2018_serials/meta'\n",
    "means.to_csv(os.path.join(META_DIR, 'means.csv'))\n",
    "stds.to_csv(os.path.join(META_DIR, 'stds.csv'))"
   ]
  },
  {
   "cell_type": "code",
   "execution_count": 117,
   "metadata": {},
   "outputs": [
    {
     "data": {
      "text/html": [
       "<div>\n",
       "<style scoped>\n",
       "    .dataframe tbody tr th:only-of-type {\n",
       "        vertical-align: middle;\n",
       "    }\n",
       "\n",
       "    .dataframe tbody tr th {\n",
       "        vertical-align: top;\n",
       "    }\n",
       "\n",
       "    .dataframe thead th {\n",
       "        text-align: right;\n",
       "    }\n",
       "</style>\n",
       "<table border=\"1\" class=\"dataframe\">\n",
       "  <thead>\n",
       "    <tr style=\"text-align: right;\">\n",
       "      <th></th>\n",
       "      <th>capacity_bytes</th>\n",
       "      <th>smart_1_raw</th>\n",
       "      <th>smart_5_raw</th>\n",
       "      <th>smart_7_raw</th>\n",
       "      <th>smart_10_raw</th>\n",
       "      <th>smart_187_raw</th>\n",
       "      <th>smart_188_raw</th>\n",
       "      <th>smart_190_raw</th>\n",
       "      <th>smart_193_raw</th>\n",
       "      <th>smart_197_raw</th>\n",
       "      <th>...</th>\n",
       "      <th>smart_5_normalized</th>\n",
       "      <th>smart_7_normalized</th>\n",
       "      <th>smart_10_normalized</th>\n",
       "      <th>smart_187_normalized</th>\n",
       "      <th>smart_188_normalized</th>\n",
       "      <th>smart_190_normalized</th>\n",
       "      <th>smart_193_normalized</th>\n",
       "      <th>smart_197_normalized</th>\n",
       "      <th>smart_198_normalized</th>\n",
       "      <th>smart_241_normalized</th>\n",
       "    </tr>\n",
       "  </thead>\n",
       "  <tbody>\n",
       "    <tr>\n",
       "      <td>1</td>\n",
       "      <td>7956.243344</td>\n",
       "      <td>1.219728e+08</td>\n",
       "      <td>578.490021</td>\n",
       "      <td>2.837305e+09</td>\n",
       "      <td>0.0</td>\n",
       "      <td>5.801774</td>\n",
       "      <td>2.888149e+08</td>\n",
       "      <td>28.788683</td>\n",
       "      <td>33090.953144</td>\n",
       "      <td>11.695257</td>\n",
       "      <td>...</td>\n",
       "      <td>99.797553</td>\n",
       "      <td>85.965448</td>\n",
       "      <td>100.0</td>\n",
       "      <td>96.777237</td>\n",
       "      <td>100.0</td>\n",
       "      <td>71.211317</td>\n",
       "      <td>87.061664</td>\n",
       "      <td>99.979469</td>\n",
       "      <td>99.979469</td>\n",
       "      <td>100.0</td>\n",
       "    </tr>\n",
       "  </tbody>\n",
       "</table>\n",
       "<p>1 rows × 23 columns</p>\n",
       "</div>"
      ],
      "text/plain": [
       "0  capacity_bytes   smart_1_raw  smart_5_raw   smart_7_raw  smart_10_raw  \\\n",
       "1     7956.243344  1.219728e+08   578.490021  2.837305e+09           0.0   \n",
       "\n",
       "0  smart_187_raw  smart_188_raw  smart_190_raw  smart_193_raw  smart_197_raw  \\\n",
       "1       5.801774   2.888149e+08      28.788683   33090.953144      11.695257   \n",
       "\n",
       "0  ...  smart_5_normalized  smart_7_normalized  smart_10_normalized  \\\n",
       "1  ...           99.797553           85.965448                100.0   \n",
       "\n",
       "0  smart_187_normalized  smart_188_normalized  smart_190_normalized  \\\n",
       "1             96.777237                 100.0             71.211317   \n",
       "\n",
       "0  smart_193_normalized  smart_197_normalized  smart_198_normalized  \\\n",
       "1             87.061664             99.979469             99.979469   \n",
       "\n",
       "0  smart_241_normalized  \n",
       "1                 100.0  \n",
       "\n",
       "[1 rows x 23 columns]"
      ]
     },
     "execution_count": 117,
     "metadata": {},
     "output_type": "execute_result"
    }
   ],
   "source": [
    "pd.read_csv(os.path.join(META_DIR, 'means.csv'), header=None).set_index(0).transpose()"
   ]
  },
  {
   "cell_type": "code",
   "execution_count": 15,
   "metadata": {},
   "outputs": [
    {
     "data": {
      "text/plain": [
       "['capacity_bytes',\n",
       " 'smart_1_raw',\n",
       " 'smart_5_raw',\n",
       " 'smart_7_raw',\n",
       " 'smart_10_raw',\n",
       " 'smart_187_raw',\n",
       " 'smart_188_raw',\n",
       " 'smart_190_raw',\n",
       " 'smart_193_raw',\n",
       " 'smart_197_raw',\n",
       " 'smart_198_raw',\n",
       " 'smart_241_raw',\n",
       " 'smart_1_normalized',\n",
       " 'smart_5_normalized',\n",
       " 'smart_7_normalized',\n",
       " 'smart_10_normalized',\n",
       " 'smart_187_normalized',\n",
       " 'smart_188_normalized',\n",
       " 'smart_190_normalized',\n",
       " 'smart_193_normalized',\n",
       " 'smart_197_normalized',\n",
       " 'smart_198_normalized',\n",
       " 'smart_241_normalized',\n",
       " 'month',\n",
       " 'day']"
      ]
     },
     "execution_count": 15,
     "metadata": {},
     "output_type": "execute_result"
    }
   ],
   "source": [
    "list(pd.read_csv(os.path.join(META_DIR, 'means.csv'), header=None)[0])"
   ]
  },
  {
   "cell_type": "code",
   "execution_count": 16,
   "metadata": {},
   "outputs": [
    {
     "data": {
      "text/html": [
       "<div>\n",
       "<style scoped>\n",
       "    .dataframe tbody tr th:only-of-type {\n",
       "        vertical-align: middle;\n",
       "    }\n",
       "\n",
       "    .dataframe tbody tr th {\n",
       "        vertical-align: top;\n",
       "    }\n",
       "\n",
       "    .dataframe thead th {\n",
       "        text-align: right;\n",
       "    }\n",
       "</style>\n",
       "<table border=\"1\" class=\"dataframe\">\n",
       "  <thead>\n",
       "    <tr style=\"text-align: right;\">\n",
       "      <th></th>\n",
       "      <th>capacity_bytes</th>\n",
       "      <th>smart_1_raw</th>\n",
       "      <th>smart_5_raw</th>\n",
       "      <th>smart_7_raw</th>\n",
       "      <th>smart_10_raw</th>\n",
       "      <th>smart_187_raw</th>\n",
       "      <th>smart_188_raw</th>\n",
       "      <th>smart_190_raw</th>\n",
       "      <th>smart_193_raw</th>\n",
       "      <th>smart_197_raw</th>\n",
       "      <th>...</th>\n",
       "      <th>smart_10_normalized</th>\n",
       "      <th>smart_187_normalized</th>\n",
       "      <th>smart_188_normalized</th>\n",
       "      <th>smart_190_normalized</th>\n",
       "      <th>smart_193_normalized</th>\n",
       "      <th>smart_197_normalized</th>\n",
       "      <th>smart_198_normalized</th>\n",
       "      <th>smart_241_normalized</th>\n",
       "      <th>month</th>\n",
       "      <th>day</th>\n",
       "    </tr>\n",
       "  </thead>\n",
       "  <tbody>\n",
       "    <tr>\n",
       "      <td>1</td>\n",
       "      <td>8101.688018</td>\n",
       "      <td>1.218646e+08</td>\n",
       "      <td>11.174456</td>\n",
       "      <td>2.397193e+09</td>\n",
       "      <td>0.0</td>\n",
       "      <td>0.122487</td>\n",
       "      <td>1.006107e+08</td>\n",
       "      <td>29.477862</td>\n",
       "      <td>18916.860967</td>\n",
       "      <td>0.211628</td>\n",
       "      <td>...</td>\n",
       "      <td>100.0</td>\n",
       "      <td>99.908973</td>\n",
       "      <td>100.0</td>\n",
       "      <td>70.522138</td>\n",
       "      <td>91.363038</td>\n",
       "      <td>99.999747</td>\n",
       "      <td>99.999747</td>\n",
       "      <td>100.0</td>\n",
       "      <td>10.391183</td>\n",
       "      <td>13.561266</td>\n",
       "    </tr>\n",
       "  </tbody>\n",
       "</table>\n",
       "<p>1 rows × 25 columns</p>\n",
       "</div>"
      ],
      "text/plain": [
       "0  capacity_bytes   smart_1_raw  smart_5_raw   smart_7_raw  smart_10_raw  \\\n",
       "1     8101.688018  1.218646e+08    11.174456  2.397193e+09           0.0   \n",
       "\n",
       "0  smart_187_raw  smart_188_raw  smart_190_raw  smart_193_raw  smart_197_raw  \\\n",
       "1       0.122487   1.006107e+08      29.477862   18916.860967       0.211628   \n",
       "\n",
       "0  ...  smart_10_normalized  smart_187_normalized  smart_188_normalized  \\\n",
       "1  ...                100.0             99.908973                 100.0   \n",
       "\n",
       "0  smart_190_normalized  smart_193_normalized  smart_197_normalized  \\\n",
       "1             70.522138             91.363038             99.999747   \n",
       "\n",
       "0  smart_198_normalized  smart_241_normalized      month        day  \n",
       "1             99.999747                 100.0  10.391183  13.561266  \n",
       "\n",
       "[1 rows x 25 columns]"
      ]
     },
     "execution_count": 16,
     "metadata": {},
     "output_type": "execute_result"
    }
   ],
   "source": [
    "pd.read_csv(os.path.join(META_DIR, 'means.csv'), header=None).set_index(0).transpose()"
   ]
  },
  {
   "cell_type": "code",
   "execution_count": null,
   "metadata": {},
   "outputs": [],
   "source": []
  }
 ],
 "metadata": {
  "kernelspec": {
   "display_name": "Python 3",
   "language": "python",
   "name": "python3"
  },
  "language_info": {
   "codemirror_mode": {
    "name": "ipython",
    "version": 3
   },
   "file_extension": ".py",
   "mimetype": "text/x-python",
   "name": "python",
   "nbconvert_exporter": "python",
   "pygments_lexer": "ipython3",
   "version": "3.7.4"
  },
  "toc-autonumbering": false,
  "toc-showcode": false
 },
 "nbformat": 4,
 "nbformat_minor": 4
}

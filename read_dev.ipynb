{
 "cells": [
  {
   "cell_type": "markdown",
   "metadata": {},
   "source": [
    "# Petastorm"
   ]
  },
  {
   "cell_type": "code",
   "execution_count": null,
   "metadata": {},
   "outputs": [],
   "source": [
    "import torch\n",
    "from petastorm import make_reader, make_batch_reader\n",
    "from petastorm.pytorch import DataLoader"
   ]
  },
  {
   "cell_type": "code",
   "execution_count": 1,
   "metadata": {
    "collapsed": true,
    "jupyter": {
     "outputs_hidden": true
    }
   },
   "outputs": [
    {
     "ename": "TypeError",
     "evalue": "'NoneType' object is not iterable",
     "output_type": "error",
     "traceback": [
      "\u001b[0;31m---------------------------------------------------------------------------\u001b[0m",
      "\u001b[0;31mPetastormMetadataError\u001b[0m                    Traceback (most recent call last)",
      "\u001b[0;32m~/miniconda3/envs/ptceph/lib/python3.7/site-packages/petastorm/etl/dataset_metadata.py\u001b[0m in \u001b[0;36minfer_or_load_unischema\u001b[0;34m(dataset)\u001b[0m\n\u001b[1;32m    389\u001b[0m     \u001b[0;32mtry\u001b[0m\u001b[0;34m:\u001b[0m\u001b[0;34m\u001b[0m\u001b[0;34m\u001b[0m\u001b[0m\n\u001b[0;32m--> 390\u001b[0;31m         \u001b[0;32mreturn\u001b[0m \u001b[0mget_schema\u001b[0m\u001b[0;34m(\u001b[0m\u001b[0mdataset\u001b[0m\u001b[0;34m)\u001b[0m\u001b[0;34m\u001b[0m\u001b[0;34m\u001b[0m\u001b[0m\n\u001b[0m\u001b[1;32m    391\u001b[0m     \u001b[0;32mexcept\u001b[0m \u001b[0mPetastormMetadataError\u001b[0m\u001b[0;34m:\u001b[0m\u001b[0;34m\u001b[0m\u001b[0;34m\u001b[0m\u001b[0m\n",
      "\u001b[0;32m~/miniconda3/envs/ptceph/lib/python3.7/site-packages/petastorm/etl/dataset_metadata.py\u001b[0m in \u001b[0;36mget_schema\u001b[0;34m(dataset)\u001b[0m\n\u001b[1;32m    343\u001b[0m         raise PetastormMetadataError(\n\u001b[0;32m--> 344\u001b[0;31m             \u001b[0;34m'Could not find _common_metadata file. Use materialize_dataset(..) in'\u001b[0m\u001b[0;34m\u001b[0m\u001b[0;34m\u001b[0m\u001b[0m\n\u001b[0m\u001b[1;32m    345\u001b[0m             \u001b[0;34m' petastorm.etl.dataset_metadata.py to generate this file in your ETL code.'\u001b[0m\u001b[0;34m\u001b[0m\u001b[0;34m\u001b[0m\u001b[0m\n",
      "\u001b[0;31mPetastormMetadataError\u001b[0m: Could not find _common_metadata file. Use materialize_dataset(..) in petastorm.etl.dataset_metadata.py to generate this file in your ETL code. You can generate it on an existing dataset using petastorm-generate-metadata.py",
      "\nDuring handling of the above exception, another exception occurred:\n",
      "\u001b[0;31mTypeError\u001b[0m                                 Traceback (most recent call last)",
      "\u001b[0;32m<ipython-input-1-696caeb13974>\u001b[0m in \u001b[0;36m<module>\u001b[0;34m\u001b[0m\n\u001b[1;32m      4\u001b[0m \u001b[0;34m\u001b[0m\u001b[0m\n\u001b[1;32m      5\u001b[0m \u001b[0mDATA_DIR\u001b[0m \u001b[0;34m=\u001b[0m \u001b[0;34m'file:///home/kachauha/Downloads/data_Q4_2018_parquet/part.0.parquet'\u001b[0m\u001b[0;34m\u001b[0m\u001b[0;34m\u001b[0m\u001b[0m\n\u001b[0;32m----> 6\u001b[0;31m \u001b[0;32mwith\u001b[0m \u001b[0mDataLoader\u001b[0m\u001b[0;34m(\u001b[0m\u001b[0mmake_batch_reader\u001b[0m\u001b[0;34m(\u001b[0m\u001b[0mDATA_DIR\u001b[0m\u001b[0;34m,\u001b[0m \u001b[0mnum_epochs\u001b[0m\u001b[0;34m=\u001b[0m\u001b[0;36m10\u001b[0m\u001b[0;34m)\u001b[0m\u001b[0;34m,\u001b[0m \u001b[0mbatch_size\u001b[0m\u001b[0;34m=\u001b[0m\u001b[0;36m64\u001b[0m\u001b[0;34m)\u001b[0m \u001b[0;32mas\u001b[0m \u001b[0mtrain_loader\u001b[0m\u001b[0;34m:\u001b[0m\u001b[0;34m\u001b[0m\u001b[0;34m\u001b[0m\u001b[0m\n\u001b[0m\u001b[1;32m      7\u001b[0m     \u001b[0;32mfor\u001b[0m \u001b[0mbatch\u001b[0m \u001b[0;32min\u001b[0m \u001b[0mtrain_loader\u001b[0m\u001b[0;34m:\u001b[0m\u001b[0;34m\u001b[0m\u001b[0;34m\u001b[0m\u001b[0m\n\u001b[1;32m      8\u001b[0m         \u001b[0mprint\u001b[0m\u001b[0;34m(\u001b[0m\u001b[0mbatch\u001b[0m\u001b[0;34m)\u001b[0m\u001b[0;34m\u001b[0m\u001b[0;34m\u001b[0m\u001b[0m\n",
      "\u001b[0;32m~/miniconda3/envs/ptceph/lib/python3.7/site-packages/petastorm/reader.py\u001b[0m in \u001b[0;36mmake_batch_reader\u001b[0;34m(dataset_url, schema_fields, reader_pool_type, workers_count, shuffle_row_groups, shuffle_row_drop_partitions, predicate, rowgroup_selector, num_epochs, cur_shard, shard_count, cache_type, cache_location, cache_size_limit, cache_row_size_estimate, cache_extra_settings, hdfs_driver, transform_spec)\u001b[0m\n\u001b[1;32m    287\u001b[0m                   \u001b[0mcache\u001b[0m\u001b[0;34m=\u001b[0m\u001b[0mcache\u001b[0m\u001b[0;34m,\u001b[0m\u001b[0;34m\u001b[0m\u001b[0;34m\u001b[0m\u001b[0m\n\u001b[1;32m    288\u001b[0m                   \u001b[0mtransform_spec\u001b[0m\u001b[0;34m=\u001b[0m\u001b[0mtransform_spec\u001b[0m\u001b[0;34m,\u001b[0m\u001b[0;34m\u001b[0m\u001b[0;34m\u001b[0m\u001b[0m\n\u001b[0;32m--> 289\u001b[0;31m                   is_batched_reader=True)\n\u001b[0m\u001b[1;32m    290\u001b[0m \u001b[0;34m\u001b[0m\u001b[0m\n\u001b[1;32m    291\u001b[0m \u001b[0;34m\u001b[0m\u001b[0m\n",
      "\u001b[0;32m~/miniconda3/envs/ptceph/lib/python3.7/site-packages/petastorm/reader.py\u001b[0m in \u001b[0;36m__init__\u001b[0;34m(self, pyarrow_filesystem, dataset_path, schema_fields, shuffle_row_groups, shuffle_row_drop_partitions, predicate, rowgroup_selector, reader_pool, num_epochs, cur_shard, shard_count, cache, worker_class, transform_spec, is_batched_reader)\u001b[0m\n\u001b[1;32m    358\u001b[0m                                          validate_schema=False)\n\u001b[1;32m    359\u001b[0m \u001b[0;34m\u001b[0m\u001b[0m\n\u001b[0;32m--> 360\u001b[0;31m         \u001b[0mstored_schema\u001b[0m \u001b[0;34m=\u001b[0m \u001b[0minfer_or_load_unischema\u001b[0m\u001b[0;34m(\u001b[0m\u001b[0mself\u001b[0m\u001b[0;34m.\u001b[0m\u001b[0mdataset\u001b[0m\u001b[0;34m)\u001b[0m\u001b[0;34m\u001b[0m\u001b[0;34m\u001b[0m\u001b[0m\n\u001b[0m\u001b[1;32m    361\u001b[0m \u001b[0;34m\u001b[0m\u001b[0m\n\u001b[1;32m    362\u001b[0m         \u001b[0;32mif\u001b[0m \u001b[0misinstance\u001b[0m\u001b[0;34m(\u001b[0m\u001b[0mschema_fields\u001b[0m\u001b[0;34m,\u001b[0m \u001b[0mNGram\u001b[0m\u001b[0;34m)\u001b[0m\u001b[0;34m:\u001b[0m\u001b[0;34m\u001b[0m\u001b[0;34m\u001b[0m\u001b[0m\n",
      "\u001b[0;32m~/miniconda3/envs/ptceph/lib/python3.7/site-packages/petastorm/etl/dataset_metadata.py\u001b[0m in \u001b[0;36minfer_or_load_unischema\u001b[0;34m(dataset)\u001b[0m\n\u001b[1;32m    392\u001b[0m         logger.info('Failed loading Unischema from metadata in %s. Assuming the dataset was not created with '\n\u001b[1;32m    393\u001b[0m                     'Petastorm. Will try to construct from native Parquet schema.')\n\u001b[0;32m--> 394\u001b[0;31m         \u001b[0;32mreturn\u001b[0m \u001b[0mUnischema\u001b[0m\u001b[0;34m.\u001b[0m\u001b[0mfrom_arrow_schema\u001b[0m\u001b[0;34m(\u001b[0m\u001b[0mdataset\u001b[0m\u001b[0;34m)\u001b[0m\u001b[0;34m\u001b[0m\u001b[0;34m\u001b[0m\u001b[0m\n\u001b[0m",
      "\u001b[0;32m~/miniconda3/envs/ptceph/lib/python3.7/site-packages/petastorm/unischema.py\u001b[0m in \u001b[0;36mfrom_arrow_schema\u001b[0;34m(cls, parquet_dataset, omit_unsupported_fields)\u001b[0m\n\u001b[1;32m    253\u001b[0m         \u001b[0munischema_fields\u001b[0m \u001b[0;34m=\u001b[0m \u001b[0;34m[\u001b[0m\u001b[0;34m]\u001b[0m\u001b[0;34m\u001b[0m\u001b[0;34m\u001b[0m\u001b[0m\n\u001b[1;32m    254\u001b[0m \u001b[0;34m\u001b[0m\u001b[0m\n\u001b[0;32m--> 255\u001b[0;31m         \u001b[0;32mfor\u001b[0m \u001b[0mpartition\u001b[0m \u001b[0;32min\u001b[0m \u001b[0mparquet_dataset\u001b[0m\u001b[0;34m.\u001b[0m\u001b[0mpartitions\u001b[0m\u001b[0;34m:\u001b[0m\u001b[0;34m\u001b[0m\u001b[0;34m\u001b[0m\u001b[0m\n\u001b[0m\u001b[1;32m    256\u001b[0m             \u001b[0;32mif\u001b[0m \u001b[0;34m(\u001b[0m\u001b[0mpa\u001b[0m\u001b[0;34m.\u001b[0m\u001b[0mtypes\u001b[0m\u001b[0;34m.\u001b[0m\u001b[0mis_binary\u001b[0m\u001b[0;34m(\u001b[0m\u001b[0mpartition\u001b[0m\u001b[0;34m.\u001b[0m\u001b[0mdictionary\u001b[0m\u001b[0;34m.\u001b[0m\u001b[0mtype\u001b[0m\u001b[0;34m)\u001b[0m \u001b[0;32mand\u001b[0m \u001b[0msix\u001b[0m\u001b[0;34m.\u001b[0m\u001b[0mPY2\u001b[0m\u001b[0;34m)\u001b[0m \u001b[0;32mor\u001b[0m\u001b[0;31m \u001b[0m\u001b[0;31m\\\u001b[0m\u001b[0;34m\u001b[0m\u001b[0;34m\u001b[0m\u001b[0m\n\u001b[1;32m    257\u001b[0m                     \u001b[0;34m(\u001b[0m\u001b[0mpa\u001b[0m\u001b[0;34m.\u001b[0m\u001b[0mtypes\u001b[0m\u001b[0;34m.\u001b[0m\u001b[0mis_string\u001b[0m\u001b[0;34m(\u001b[0m\u001b[0mpartition\u001b[0m\u001b[0;34m.\u001b[0m\u001b[0mdictionary\u001b[0m\u001b[0;34m.\u001b[0m\u001b[0mtype\u001b[0m\u001b[0;34m)\u001b[0m \u001b[0;32mand\u001b[0m \u001b[0msix\u001b[0m\u001b[0;34m.\u001b[0m\u001b[0mPY3\u001b[0m\u001b[0;34m)\u001b[0m\u001b[0;34m:\u001b[0m\u001b[0;34m\u001b[0m\u001b[0;34m\u001b[0m\u001b[0m\n",
      "\u001b[0;31mTypeError\u001b[0m: 'NoneType' object is not iterable"
     ]
    }
   ],
   "source": [
    "DATA_DIR = 'file:///home/kachauha/Downloads/data_Q4_2018_parquet/part.0.parquet'\n",
    "with DataLoader(make_batch_reader(DATA_DIR, num_epochs=10), batch_size=64) as train_loader:\n",
    "    for batch in train_loader:\n",
    "        print(batch)"
   ]
  },
  {
   "cell_type": "markdown",
   "metadata": {},
   "source": [
    "**RESULT** not ready for plug n play"
   ]
  },
  {
   "cell_type": "markdown",
   "metadata": {},
   "source": [
    "# Dask + Pandas + Pytorch"
   ]
  },
  {
   "cell_type": "markdown",
   "metadata": {},
   "source": [
    "- first need to filter out serial numbers that lasted less than window_size, then filter out columns not used in training, then group data by serial number and save those csvs\n",
    "- For loading in batches of serial numbers, intuitively makes more sense to store data serial number wise instead of date wise"
   ]
  },
  {
   "cell_type": "code",
   "execution_count": 1,
   "metadata": {},
   "outputs": [],
   "source": [
    "import os\n",
    "import time\n",
    "import glob\n",
    "\n",
    "import numpy as np\n",
    "import pandas as pd\n",
    "import dask.dataframe as dd\n",
    "\n",
    "import joblib\n",
    "from joblib import Parallel, delayed, parallel_backend"
   ]
  },
  {
   "cell_type": "code",
   "execution_count": 2,
   "metadata": {
    "jupyter": {
     "source_hidden": true
    }
   },
   "outputs": [],
   "source": [
    "# inferred int32 types cause a type mismatch (int vs float) error when dask sees a null value\n",
    "# null values cannot be interpreted as ints\n",
    "custom_dtypes = {\n",
    "    \"date\": \"object\",\n",
    "    \"serial_number\": \"object\",\n",
    "    \"model\": \"object\",\n",
    "    \"capacity_bytes\": \"float32\",\n",
    "    \"failure\": \"float32\",\n",
    "    \"smart_1_normalized\": \"float32\",\n",
    "    \"smart_1_raw\": \"float32\",\n",
    "    \"smart_2_normalized\": \"float32\",\n",
    "    \"smart_2_raw\": \"float32\",\n",
    "    \"smart_3_normalized\": \"float32\",\n",
    "    \"smart_3_raw\": \"float32\",\n",
    "    \"smart_4_normalized\": \"float32\",\n",
    "    \"smart_4_raw\": \"float32\",\n",
    "    \"smart_5_normalized\": \"float32\",\n",
    "    \"smart_5_raw\": \"float32\",\n",
    "    \"smart_7_normalized\": \"float32\",\n",
    "    \"smart_7_raw\": \"float32\",\n",
    "    \"smart_8_normalized\": \"float32\",\n",
    "    \"smart_8_raw\": \"float32\",\n",
    "    \"smart_9_normalized\": \"float32\",\n",
    "    \"smart_9_raw\": \"float32\",\n",
    "    \"smart_10_normalized\": \"float32\",\n",
    "    \"smart_10_raw\": \"float32\",\n",
    "    \"smart_11_normalized\": \"float32\",\n",
    "    \"smart_11_raw\": \"float32\",\n",
    "    \"smart_12_normalized\": \"float32\",\n",
    "    \"smart_12_raw\": \"float32\",\n",
    "    \"smart_13_normalized\": \"float32\",\n",
    "    \"smart_13_raw\": \"float32\",\n",
    "    \"smart_15_normalized\": \"float32\",\n",
    "    \"smart_15_raw\": \"float32\",\n",
    "    \"smart_16_normalized\": \"float32\",\n",
    "    \"smart_16_raw\": \"float32\",\n",
    "    \"smart_17_normalized\": \"float32\",\n",
    "    \"smart_17_raw\": \"float32\",\n",
    "    \"smart_22_normalized\": \"float32\",\n",
    "    \"smart_22_raw\": \"float32\",\n",
    "    \"smart_23_normalized\": \"float32\",\n",
    "    \"smart_23_raw\": \"float32\",\n",
    "    \"smart_24_normalized\": \"float32\",\n",
    "    \"smart_24_raw\": \"float32\",\n",
    "    \"smart_168_normalized\": \"float32\",\n",
    "    \"smart_168_raw\": \"float32\",\n",
    "    \"smart_170_normalized\": \"float32\",\n",
    "    \"smart_170_raw\": \"float32\",\n",
    "    \"smart_173_normalized\": \"float32\",\n",
    "    \"smart_173_raw\": \"float32\",\n",
    "    \"smart_174_normalized\": \"float32\",\n",
    "    \"smart_174_raw\": \"float32\",\n",
    "    \"smart_177_normalized\": \"float32\",\n",
    "    \"smart_177_raw\": \"float32\",\n",
    "    \"smart_179_normalized\": \"float32\",\n",
    "    \"smart_179_raw\": \"float32\",\n",
    "    \"smart_181_normalized\": \"float32\",\n",
    "    \"smart_181_raw\": \"float32\",\n",
    "    \"smart_182_normalized\": \"float32\",\n",
    "    \"smart_182_raw\": \"float32\",\n",
    "    \"smart_183_normalized\": \"float32\",\n",
    "    \"smart_183_raw\": \"float32\",\n",
    "    \"smart_184_normalized\": \"float32\",\n",
    "    \"smart_184_raw\": \"float32\",\n",
    "    \"smart_187_normalized\": \"float32\",\n",
    "    \"smart_187_raw\": \"float32\",\n",
    "    \"smart_188_normalized\": \"float32\",\n",
    "    \"smart_188_raw\": \"float32\",\n",
    "    \"smart_189_normalized\": \"float32\",\n",
    "    \"smart_189_raw\": \"float32\",\n",
    "    \"smart_190_normalized\": \"float32\",\n",
    "    \"smart_190_raw\": \"float32\",\n",
    "    \"smart_191_normalized\": \"float32\",\n",
    "    \"smart_191_raw\": \"float32\",\n",
    "    \"smart_192_normalized\": \"float32\",\n",
    "    \"smart_192_raw\": \"float32\",\n",
    "    \"smart_193_normalized\": \"float32\",\n",
    "    \"smart_193_raw\": \"float32\",\n",
    "    \"smart_194_normalized\": \"float32\",\n",
    "    \"smart_194_raw\": \"float32\",\n",
    "    \"smart_195_normalized\": \"float32\",\n",
    "    \"smart_195_raw\": \"float32\",\n",
    "    \"smart_196_normalized\": \"float32\",\n",
    "    \"smart_196_raw\": \"float32\",\n",
    "    \"smart_197_normalized\": \"float32\",\n",
    "    \"smart_197_raw\": \"float32\",\n",
    "    \"smart_198_normalized\": \"float32\",\n",
    "    \"smart_198_raw\": \"float32\",\n",
    "    \"smart_199_normalized\": \"float32\",\n",
    "    \"smart_199_raw\": \"float32\",\n",
    "    \"smart_200_normalized\": \"float32\",\n",
    "    \"smart_200_raw\": \"float32\",\n",
    "    \"smart_201_normalized\": \"float32\",\n",
    "    \"smart_201_raw\": \"float32\",\n",
    "    \"smart_218_normalized\": \"float32\",\n",
    "    \"smart_218_raw\": \"float32\",\n",
    "    \"smart_220_normalized\": \"float32\",\n",
    "    \"smart_220_raw\": \"float32\",\n",
    "    \"smart_222_normalized\": \"float32\",\n",
    "    \"smart_222_raw\": \"float32\",\n",
    "    \"smart_223_normalized\": \"float32\",\n",
    "    \"smart_223_raw\": \"float32\",\n",
    "    \"smart_224_normalized\": \"float32\",\n",
    "    \"smart_224_raw\": \"float32\",\n",
    "    \"smart_225_normalized\": \"float32\",\n",
    "    \"smart_225_raw\": \"float32\",\n",
    "    \"smart_226_normalized\": \"float32\",\n",
    "    \"smart_226_raw\": \"float32\",\n",
    "    \"smart_231_normalized\": \"float32\",\n",
    "    \"smart_231_raw\": \"float32\",\n",
    "    \"smart_232_normalized\": \"float32\",\n",
    "    \"smart_232_raw\": \"float32\",\n",
    "    \"smart_233_normalized\": \"float32\",\n",
    "    \"smart_233_raw\": \"float32\",\n",
    "    \"smart_235_normalized\": \"float32\",\n",
    "    \"smart_235_raw\": \"float32\",\n",
    "    \"smart_240_normalized\": \"float32\",\n",
    "    \"smart_240_raw\": \"float32\",\n",
    "    \"smart_241_normalized\": \"float32\",\n",
    "    \"smart_241_raw\": \"float32\",\n",
    "    \"smart_242_normalized\": \"float32\",\n",
    "    \"smart_242_raw\": \"float32\",\n",
    "    \"smart_250_normalized\": \"float32\",\n",
    "    \"smart_250_raw\": \"float32\",\n",
    "    \"smart_251_normalized\": \"float32\",\n",
    "    \"smart_251_raw\": \"float32\",\n",
    "    \"smart_252_normalized\": \"float32\",\n",
    "    \"smart_252_raw\": \"float32\",\n",
    "    \"smart_254_normalized\": \"float32\",\n",
    "    \"smart_254_raw\": \"float32\",\n",
    "    \"smart_255_normalized\": \"float32\",\n",
    "    \"smart_255_raw\": \"float32\",\n",
    "}"
   ]
  },
  {
   "cell_type": "markdown",
   "metadata": {},
   "source": [
    "## Reformat and save data"
   ]
  },
  {
   "cell_type": "code",
   "execution_count": 60,
   "metadata": {},
   "outputs": [
    {
     "data": {
      "text/plain": [
       "((298861, 129),)"
      ]
     },
     "execution_count": 60,
     "metadata": {},
     "output_type": "execute_result"
    }
   ],
   "source": [
    "csv_paths = ['/home/kachauha/Downloads/data_Q4_2018/2018-10-01.csv',\n",
    "             '/home/kachauha/Downloads/data_Q4_2018/2018-10-02.csv',\n",
    "             '/home/kachauha/Downloads/data_Q4_2018/2018-10-03.csv']\n",
    "ddf = dd.read_csv(csv_paths[0], dtype=custom_dtypes)\n",
    "for path in csv_paths[1:]:\n",
    "    ddf = ddf.append(dd.read_csv(path, dtype=custom_dtypes))"
   ]
  },
  {
   "cell_type": "code",
   "execution_count": 5,
   "metadata": {},
   "outputs": [],
   "source": [
    "# time window slice that will be fed to lstm\n",
    "time_window = 2"
   ]
  },
  {
   "cell_type": "code",
   "execution_count": 137,
   "metadata": {},
   "outputs": [
    {
     "name": "stdout",
     "output_type": "stream",
     "text": [
      "10084 serial numbers kept\n",
      "df shape = (90212, 129)\n"
     ]
    },
    {
     "data": {
      "text/html": [
       "<div>\n",
       "<style scoped>\n",
       "    .dataframe tbody tr th:only-of-type {\n",
       "        vertical-align: middle;\n",
       "    }\n",
       "\n",
       "    .dataframe tbody tr th {\n",
       "        vertical-align: top;\n",
       "    }\n",
       "\n",
       "    .dataframe thead th {\n",
       "        text-align: right;\n",
       "    }\n",
       "</style>\n",
       "<table border=\"1\" class=\"dataframe\">\n",
       "  <thead>\n",
       "    <tr style=\"text-align: right;\">\n",
       "      <th></th>\n",
       "      <th>date</th>\n",
       "      <th>serial_number</th>\n",
       "      <th>model</th>\n",
       "      <th>capacity_bytes</th>\n",
       "      <th>failure</th>\n",
       "      <th>smart_1_normalized</th>\n",
       "      <th>smart_1_raw</th>\n",
       "      <th>smart_2_normalized</th>\n",
       "      <th>smart_2_raw</th>\n",
       "      <th>smart_3_normalized</th>\n",
       "      <th>...</th>\n",
       "      <th>smart_250_normalized</th>\n",
       "      <th>smart_250_raw</th>\n",
       "      <th>smart_251_normalized</th>\n",
       "      <th>smart_251_raw</th>\n",
       "      <th>smart_252_normalized</th>\n",
       "      <th>smart_252_raw</th>\n",
       "      <th>smart_254_normalized</th>\n",
       "      <th>smart_254_raw</th>\n",
       "      <th>smart_255_normalized</th>\n",
       "      <th>smart_255_raw</th>\n",
       "    </tr>\n",
       "  </thead>\n",
       "  <tbody>\n",
       "    <tr>\n",
       "      <td>0</td>\n",
       "      <td>2018-10-05</td>\n",
       "      <td>Z305B2QN</td>\n",
       "      <td>ST4000DM000</td>\n",
       "      <td>4000787030016</td>\n",
       "      <td>0</td>\n",
       "      <td>119.0</td>\n",
       "      <td>221968208.0</td>\n",
       "      <td>NaN</td>\n",
       "      <td>NaN</td>\n",
       "      <td>91.0</td>\n",
       "      <td>...</td>\n",
       "      <td>NaN</td>\n",
       "      <td>NaN</td>\n",
       "      <td>NaN</td>\n",
       "      <td>NaN</td>\n",
       "      <td>NaN</td>\n",
       "      <td>NaN</td>\n",
       "      <td>NaN</td>\n",
       "      <td>NaN</td>\n",
       "      <td>NaN</td>\n",
       "      <td>NaN</td>\n",
       "    </tr>\n",
       "    <tr>\n",
       "      <td>21</td>\n",
       "      <td>2018-10-05</td>\n",
       "      <td>PL1331LAHD1HTH</td>\n",
       "      <td>HGST HMS5C4040BLE640</td>\n",
       "      <td>4000787030016</td>\n",
       "      <td>0</td>\n",
       "      <td>100.0</td>\n",
       "      <td>0.0</td>\n",
       "      <td>134.0</td>\n",
       "      <td>103.0</td>\n",
       "      <td>100.0</td>\n",
       "      <td>...</td>\n",
       "      <td>NaN</td>\n",
       "      <td>NaN</td>\n",
       "      <td>NaN</td>\n",
       "      <td>NaN</td>\n",
       "      <td>NaN</td>\n",
       "      <td>NaN</td>\n",
       "      <td>NaN</td>\n",
       "      <td>NaN</td>\n",
       "      <td>NaN</td>\n",
       "      <td>NaN</td>\n",
       "    </tr>\n",
       "    <tr>\n",
       "      <td>30</td>\n",
       "      <td>2018-10-05</td>\n",
       "      <td>ZA13YGBE</td>\n",
       "      <td>ST8000DM002</td>\n",
       "      <td>8001563222016</td>\n",
       "      <td>0</td>\n",
       "      <td>78.0</td>\n",
       "      <td>70714944.0</td>\n",
       "      <td>NaN</td>\n",
       "      <td>NaN</td>\n",
       "      <td>92.0</td>\n",
       "      <td>...</td>\n",
       "      <td>NaN</td>\n",
       "      <td>NaN</td>\n",
       "      <td>NaN</td>\n",
       "      <td>NaN</td>\n",
       "      <td>NaN</td>\n",
       "      <td>NaN</td>\n",
       "      <td>NaN</td>\n",
       "      <td>NaN</td>\n",
       "      <td>NaN</td>\n",
       "      <td>NaN</td>\n",
       "    </tr>\n",
       "    <tr>\n",
       "      <td>31</td>\n",
       "      <td>2018-10-05</td>\n",
       "      <td>ZA18CEB3</td>\n",
       "      <td>ST8000NM0055</td>\n",
       "      <td>8001563222016</td>\n",
       "      <td>0</td>\n",
       "      <td>78.0</td>\n",
       "      <td>57687512.0</td>\n",
       "      <td>NaN</td>\n",
       "      <td>NaN</td>\n",
       "      <td>96.0</td>\n",
       "      <td>...</td>\n",
       "      <td>NaN</td>\n",
       "      <td>NaN</td>\n",
       "      <td>NaN</td>\n",
       "      <td>NaN</td>\n",
       "      <td>NaN</td>\n",
       "      <td>NaN</td>\n",
       "      <td>NaN</td>\n",
       "      <td>NaN</td>\n",
       "      <td>NaN</td>\n",
       "      <td>NaN</td>\n",
       "    </tr>\n",
       "    <tr>\n",
       "      <td>58</td>\n",
       "      <td>2018-10-05</td>\n",
       "      <td>ZJV0T566</td>\n",
       "      <td>ST12000NM0007</td>\n",
       "      <td>12000138625024</td>\n",
       "      <td>0</td>\n",
       "      <td>77.0</td>\n",
       "      <td>45629552.0</td>\n",
       "      <td>NaN</td>\n",
       "      <td>NaN</td>\n",
       "      <td>98.0</td>\n",
       "      <td>...</td>\n",
       "      <td>NaN</td>\n",
       "      <td>NaN</td>\n",
       "      <td>NaN</td>\n",
       "      <td>NaN</td>\n",
       "      <td>NaN</td>\n",
       "      <td>NaN</td>\n",
       "      <td>NaN</td>\n",
       "      <td>NaN</td>\n",
       "      <td>NaN</td>\n",
       "      <td>NaN</td>\n",
       "    </tr>\n",
       "  </tbody>\n",
       "</table>\n",
       "<p>5 rows × 129 columns</p>\n",
       "</div>"
      ],
      "text/plain": [
       "          date   serial_number                 model  capacity_bytes  failure  \\\n",
       "0   2018-10-05        Z305B2QN           ST4000DM000   4000787030016        0   \n",
       "21  2018-10-05  PL1331LAHD1HTH  HGST HMS5C4040BLE640   4000787030016        0   \n",
       "30  2018-10-05        ZA13YGBE           ST8000DM002   8001563222016        0   \n",
       "31  2018-10-05        ZA18CEB3          ST8000NM0055   8001563222016        0   \n",
       "58  2018-10-05        ZJV0T566         ST12000NM0007  12000138625024        0   \n",
       "\n",
       "    smart_1_normalized  smart_1_raw  smart_2_normalized  smart_2_raw  \\\n",
       "0                119.0  221968208.0                 NaN          NaN   \n",
       "21               100.0          0.0               134.0        103.0   \n",
       "30                78.0   70714944.0                 NaN          NaN   \n",
       "31                78.0   57687512.0                 NaN          NaN   \n",
       "58                77.0   45629552.0                 NaN          NaN   \n",
       "\n",
       "    smart_3_normalized  ...  smart_250_normalized  smart_250_raw  \\\n",
       "0                 91.0  ...                   NaN            NaN   \n",
       "21               100.0  ...                   NaN            NaN   \n",
       "30                92.0  ...                   NaN            NaN   \n",
       "31                96.0  ...                   NaN            NaN   \n",
       "58                98.0  ...                   NaN            NaN   \n",
       "\n",
       "    smart_251_normalized  smart_251_raw  smart_252_normalized  smart_252_raw  \\\n",
       "0                    NaN            NaN                   NaN            NaN   \n",
       "21                   NaN            NaN                   NaN            NaN   \n",
       "30                   NaN            NaN                   NaN            NaN   \n",
       "31                   NaN            NaN                   NaN            NaN   \n",
       "58                   NaN            NaN                   NaN            NaN   \n",
       "\n",
       "    smart_254_normalized  smart_254_raw  smart_255_normalized  smart_255_raw  \n",
       "0                    NaN            NaN                   NaN            NaN  \n",
       "21                   NaN            NaN                   NaN            NaN  \n",
       "30                   NaN            NaN                   NaN            NaN  \n",
       "31                   NaN            NaN                   NaN            NaN  \n",
       "58                   NaN            NaN                   NaN            NaN  \n",
       "\n",
       "[5 rows x 129 columns]"
      ]
     },
     "execution_count": 137,
     "metadata": {},
     "output_type": "execute_result"
    }
   ],
   "source": [
    "# first 9 days worth of data\n",
    "csv_paths = glob.glob('/home/kachauha/Downloads/data_Q4_2018/2018-10-0*.csv')\n",
    "df = pd.read_csv(csv_paths[0])\n",
    "for path in csv_paths[1:]:\n",
    "    df = df.append(pd.read_csv(path), ignore_index=True)\n",
    "\n",
    "# keep only a small subset for experimenting - keep 10% of each frequency\n",
    "subset_sers = []\n",
    "vc = df['serial_number'].value_counts()\n",
    "for count in vc.unique():\n",
    "    if count > time_window:\n",
    "        subset_sers = np.append(subset_sers, vc[vc==count].sample(frac=0.1).index.values)\n",
    "print(len(subset_sers), 'serial numbers kept')\n",
    "        \n",
    "df = df[df['serial_number'].isin(subset_sers)]\n",
    "print('df shape =', df.shape)\n",
    "df.head()"
   ]
  },
  {
   "cell_type": "code",
   "execution_count": 138,
   "metadata": {},
   "outputs": [],
   "source": [
    "def save_group(ser, ser_df):\n",
    "    SAVE_DIR = '/home/kachauha/Downloads/data_Q4_2018_serials/'\n",
    "    ser_df.to_csv(os.path.join(SAVE_DIR, ser + '.csv'), index=False)"
   ]
  },
  {
   "cell_type": "code",
   "execution_count": 139,
   "metadata": {},
   "outputs": [
    {
     "name": "stdout",
     "output_type": "stream",
     "text": [
      "24.355740785598755\n"
     ]
    }
   ],
   "source": [
    "start = time.time()\n",
    "_ = Parallel(n_jobs=-1, prefer='threads')(\n",
    "    delayed(save_group)(s, d) for s,d in df.groupby('serial_number'))\n",
    "end = time.time()\n",
    "print(end-start)"
   ]
  },
  {
   "cell_type": "markdown",
   "metadata": {},
   "source": [
    "## Load in time window slices"
   ]
  },
  {
   "cell_type": "code",
   "execution_count": 22,
   "metadata": {},
   "outputs": [],
   "source": [
    "batch_size = 5"
   ]
  },
  {
   "cell_type": "code",
   "execution_count": 6,
   "metadata": {},
   "outputs": [],
   "source": [
    "import itertools\n",
    "import random"
   ]
  },
  {
   "cell_type": "code",
   "execution_count": 17,
   "metadata": {},
   "outputs": [],
   "source": [
    "# experiment\n",
    "# total serials\n",
    "num_total_sers = 100\n",
    "\n",
    "# generate varying length (from min to 4*min) random number filled sequences\n",
    "ts_data = []\n",
    "for i in range(num_total_sers):\n",
    "    curr_ts_len = random.randint(time_window, 4*time_window)\n",
    "    ts_data.append(list(np.random.random(size=(curr_ts_len))))"
   ]
  },
  {
   "cell_type": "code",
   "execution_count": 19,
   "metadata": {},
   "outputs": [
    {
     "data": {
      "text/plain": [
       "[[0.96310499342986,\n",
       "  0.7591460584111961,\n",
       "  0.8389684098703237,\n",
       "  0.4648483219318159,\n",
       "  0.5933514956859721,\n",
       "  0.7100772916714108],\n",
       " [0.8530215355855947,\n",
       "  0.557167740304858,\n",
       "  0.45128951694050734,\n",
       "  0.5501080968376889,\n",
       "  0.7432796469530133,\n",
       "  0.7006215439612169],\n",
       " [0.2566581185645632,\n",
       "  0.2798830182815527,\n",
       "  0.414283457119197,\n",
       "  0.4162419398995375,\n",
       "  0.38434181581618565,\n",
       "  0.756601568539205,\n",
       "  0.8950328881222918,\n",
       "  0.7806650368943411]]"
      ]
     },
     "execution_count": 19,
     "metadata": {},
     "output_type": "execute_result"
    }
   ],
   "source": [
    "ts_data[:3]"
   ]
  },
  {
   "cell_type": "code",
   "execution_count": 30,
   "metadata": {},
   "outputs": [
    {
     "name": "stdout",
     "output_type": "stream",
     "text": [
      "(1, 5, 8, 11)\n",
      "(2, 6, 9, 12)\n",
      "(3, 7, 10, 13)\n",
      "(4, None, None, 14)\n",
      "(None, None, None, 15)\n"
     ]
    }
   ],
   "source": [
    "# itertool experiments\n",
    "testlist =[[1,2,3,4], [5,6,7], [8,9,10], [11,12,13,14,15]]\n",
    "for i in itertools.zip_longest(*testlist):\n",
    "    print(i)"
   ]
  },
  {
   "cell_type": "code",
   "execution_count": 35,
   "metadata": {},
   "outputs": [
    {
     "data": {
      "text/plain": [
       "Index(['Z30218JY', 'ZA16DWQK', 'ZA12Y7GP', 'VKGZ9VRX', 'ZA13E6KE', 'Z302A1D3',\n",
       "       'PL2331LAHAWVGJ', 'ZCH083A5', 'PL1331LAGT9P1H', 'ZA16V3D3'],\n",
       "      dtype='object')"
      ]
     },
     "execution_count": 35,
     "metadata": {},
     "output_type": "execute_result"
    }
   ],
   "source": [
    "# serial numbers in current batch\n",
    "curr_batch_sers = "
   ]
  },
  {
   "cell_type": "code",
   "execution_count": null,
   "metadata": {},
   "outputs": [],
   "source": []
  },
  {
   "cell_type": "code",
   "execution_count": null,
   "metadata": {},
   "outputs": [],
   "source": []
  }
 ],
 "metadata": {
  "kernelspec": {
   "display_name": "Python 3",
   "language": "python",
   "name": "python3"
  },
  "language_info": {
   "codemirror_mode": {
    "name": "ipython",
    "version": 3
   },
   "file_extension": ".py",
   "mimetype": "text/x-python",
   "name": "python",
   "nbconvert_exporter": "python",
   "pygments_lexer": "ipython3",
   "version": "3.7.4"
  }
 },
 "nbformat": 4,
 "nbformat_minor": 4
}

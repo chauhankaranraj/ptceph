{
 "cells": [
  {
   "cell_type": "code",
   "execution_count": 6,
   "metadata": {},
   "outputs": [],
   "source": [
    "import os\n",
    "import tqdm\n",
    "import random\n",
    "import datetime\n",
    "from os.path import join as ospj\n",
    "from itertools import chain, cycle\n",
    "\n",
    "import numpy as np\n",
    "import pandas as pd\n",
    "import dask.dataframe as dd\n",
    "from dask.diagnostics import ProgressBar"
   ]
  },
  {
   "cell_type": "code",
   "execution_count": 3,
   "metadata": {},
   "outputs": [],
   "source": [
    "# split data into dirs\n",
    "WORK_DIR = ospj('/home/kachauha/Downloads/data_Q4_2018_serials', 'working')\n",
    "FAIL_DIR = ospj('/home/kachauha/Downloads/data_Q4_2018_serials', 'failed')\n",
    "META_DIR = ospj('/home/kachauha/Downloads/data_Q4_2018_serials', 'meta')"
   ]
  },
  {
   "cell_type": "code",
   "execution_count": 5,
   "metadata": {},
   "outputs": [],
   "source": [
    "failed_ser_files = [ospj(FAIL_DIR, f) for f in os.listdir(FAIL_DIR) if os.path.isfile(ospj(FAIL_DIR, f))]\n",
    "working_ser_files = [ospj(WORK_DIR, f) for f in os.listdir(WORK_DIR) if os.path.isfile(ospj(WORK_DIR, f))]\n",
    "if len(working_ser_files) > len(failed_ser_files):\n",
    "    ser_files = list(chain(*zip(cycle(failed_ser_files), working_ser_files)))\n",
    "else:\n",
    "    ser_files = list(chain(*zip(cycle(working_ser_files), failed_ser_files)))"
   ]
  },
  {
   "cell_type": "code",
   "execution_count": 7,
   "metadata": {},
   "outputs": [],
   "source": [
    "bar = ProgressBar()\n",
    "bar.register()"
   ]
  },
  {
   "cell_type": "code",
   "execution_count": 8,
   "metadata": {},
   "outputs": [
    {
     "name": "stdout",
     "output_type": "stream",
     "text": [
      "[########################################] | 100% Completed |  3min 59.3s\n"
     ]
    }
   ],
   "source": [
    "sizes = dd.read_csv(ser_files).groupby('serial_number').size().compute()"
   ]
  },
  {
   "cell_type": "code",
   "execution_count": 13,
   "metadata": {},
   "outputs": [
    {
     "data": {
      "text/plain": [
       "8"
      ]
     },
     "execution_count": 13,
     "metadata": {},
     "output_type": "execute_result"
    }
   ],
   "source": [
    "sizes.min()"
   ]
  },
  {
   "cell_type": "code",
   "execution_count": null,
   "metadata": {},
   "outputs": [],
   "source": [
    "for ser,days in sizes.items():\n",
    "    if days < 6:\n",
    "        if ser"
   ]
  }
 ],
 "metadata": {
  "kernelspec": {
   "display_name": "Python 3",
   "language": "python",
   "name": "python3"
  },
  "language_info": {
   "codemirror_mode": {
    "name": "ipython",
    "version": 3
   },
   "file_extension": ".py",
   "mimetype": "text/x-python",
   "name": "python",
   "nbconvert_exporter": "python",
   "pygments_lexer": "ipython3",
   "version": "3.7.4"
  }
 },
 "nbformat": 4,
 "nbformat_minor": 4
}
